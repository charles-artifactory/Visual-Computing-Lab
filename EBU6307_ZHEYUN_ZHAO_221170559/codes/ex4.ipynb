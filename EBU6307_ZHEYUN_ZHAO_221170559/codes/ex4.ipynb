{
 "cells": [
  {
   "cell_type": "code",
   "execution_count": null,
   "id": "2cc31047",
   "metadata": {},
   "outputs": [
    {
     "name": "stdout",
     "output_type": "stream",
     "text": [
      "使用设备: mps\n"
     ]
    }
   ],
   "source": [
    "import os\n",
    "import numpy as np\n",
    "from PIL import Image, ImageDraw, ImageFont\n",
    "import torch\n",
    "import torch.nn as nn\n",
    "import torch.nn.functional as F\n",
    "import torch.optim as optim\n",
    "from torch.utils.data import Dataset, DataLoader\n",
    "from torchvision import transforms\n",
    "import re\n",
    "import random\n",
    "import pandas as pd\n",
    "import matplotlib.pyplot as plt\n",
    "from tqdm import tqdm\n",
    "from sklearn.model_selection import KFold\n",
    "\n",
    "INPUT_DIR = '../inputs/MiddleburyDataset/data/'\n",
    "OUTPUT_DIR = '../results'\n",
    "\n",
    "os.makedirs(OUTPUT_DIR, exist_ok=True)\n",
    "\n",
    "if torch.cuda.is_available():\n",
    "    device = torch.device(\"cuda\")\n",
    "elif torch.backends.mps.is_available():\n",
    "    device = torch.device(\"mps\")\n",
    "else:\n",
    "    device = torch.device(\"cpu\")\n",
    "\n",
    "print(f\"Using device: {device}\")"
   ]
  },
  {
   "cell_type": "code",
   "execution_count": null,
   "id": "72397ea3",
   "metadata": {},
   "outputs": [],
   "source": [
    "def read_calib_file(calib_file):\n",
    "    \"\"\"Read calibration file and extract parameters.\"\"\"\n",
    "    with open(calib_file, 'r') as f:\n",
    "        lines = f.readlines()\n",
    "    \n",
    "    params = {}\n",
    "    \n",
    "    for line in lines:\n",
    "        line = line.strip()\n",
    "        if not line or line.startswith('#'):\n",
    "            continue\n",
    "        \n",
    "        key_value = line.split('=')\n",
    "        if len(key_value) != 2:\n",
    "            continue\n",
    "        \n",
    "        key, value = key_value\n",
    "        \n",
    "        # Handle camera matrix\n",
    "        if key == 'cam0' or key == 'cam1':\n",
    "            # Example: cam0=[1733.74 0 792.27; 0 1733.74 541.89; 0 0 1]\n",
    "            value = value.replace('[', '').replace(']', '')\n",
    "            matrix_values = []\n",
    "            for row in value.split(';'):\n",
    "                if row:\n",
    "                    row_values = [float(v) for v in row.split()]\n",
    "                    matrix_values.extend(row_values)\n",
    "            params[key] = matrix_values\n",
    "        # Handle other numeric parameters\n",
    "        else:\n",
    "            try:\n",
    "                params[key] = float(value)\n",
    "            except ValueError:\n",
    "                params[key] = value\n",
    "    \n",
    "    # Ensure basic parameters exist, use default if missing\n",
    "    if 'width' not in params:\n",
    "        params['width'] = 1920\n",
    "    if 'height' not in params:\n",
    "        params['height'] = 1080\n",
    "    if 'ndisp' not in params:\n",
    "        params['ndisp'] = 192\n",
    "    \n",
    "    return params\n",
    "\n",
    "def read_pfm(file):\n",
    "    \"\"\"Read PFM file.\"\"\"\n",
    "    with open(file, 'rb') as f:\n",
    "        # Line 1: PF=>RGB (3 channels), Pf=>Greyscale (1 channel)\n",
    "        header = f.readline().decode('utf-8').rstrip()\n",
    "        if header == 'PF':\n",
    "            color = True\n",
    "        elif header == 'Pf':\n",
    "            color = False\n",
    "        else:\n",
    "            raise Exception('Not a PFM file: ' + file)\n",
    "        \n",
    "        # Line 2: dimensions\n",
    "        dim_match = re.match(r'^(\\d+)\\s(\\d+)\\s$', f.readline().decode('utf-8'))\n",
    "        if dim_match:\n",
    "            width, height = map(int, dim_match.groups())\n",
    "        else:\n",
    "            raise Exception('Malformed PFM header: ' + file)\n",
    "        \n",
    "        # Line 3: scale factor (negative for little-endian)\n",
    "        scale = float(f.readline().decode('utf-8').rstrip())\n",
    "        if scale < 0:  # little-endian\n",
    "            endian = '<'\n",
    "        else:\n",
    "            endian = '>'  # big-endian\n",
    "        \n",
    "        # Data\n",
    "        data = np.fromfile(f, endian + 'f')\n",
    "        shape = (height, width, 3) if color else (height, width)\n",
    "        data = np.reshape(data, shape)\n",
    "        data = np.flipud(data)  # Flip vertically\n",
    "        \n",
    "        return data, scale"
   ]
  },
  {
   "cell_type": "code",
   "execution_count": null,
   "id": "915140f4",
   "metadata": {},
   "outputs": [],
   "source": [
    "class MiddleburyDataset(Dataset):\n",
    "    def __init__(self, root_dir, scenes, transform=None, phase='train', target_size=(256, 512)):\n",
    "        \"\"\"\n",
    "        Args:\n",
    "            root_dir (string): Directory containing all scenes\n",
    "            scenes (list): List of scene names to include\n",
    "            transform (callable, optional): Optional transform to be applied on a sample\n",
    "            phase (str): 'train' or 'test'\n",
    "            target_size (tuple): Target size (height, width) for resizing\n",
    "        \"\"\"\n",
    "        self.root_dir = root_dir\n",
    "        self.scenes = scenes\n",
    "        self.transform = transform\n",
    "        self.phase = phase\n",
    "        self.target_size = target_size\n",
    "        self.samples = []\n",
    "        \n",
    "        # Collect all valid samples\n",
    "        for scene in scenes:\n",
    "            scene_dir = os.path.join(root_dir, scene)\n",
    "            \n",
    "            # Calibration file path\n",
    "            calib_file = os.path.join(scene_dir, 'calib.txt')\n",
    "            \n",
    "            # Default left/right images and disparity\n",
    "            left_img_path = os.path.join(scene_dir, 'im0.png')\n",
    "            right_img_path = os.path.join(scene_dir, 'im1.png')\n",
    "            left_disp_path = os.path.join(scene_dir, 'disp0.pfm')\n",
    "            \n",
    "            if os.path.exists(left_img_path) and os.path.exists(right_img_path) and os.path.exists(left_disp_path) and os.path.exists(calib_file):\n",
    "                # Read calibration info\n",
    "                calib_params = read_calib_file(calib_file)\n",
    "                \n",
    "                self.samples.append({\n",
    "                    'left_img': left_img_path,\n",
    "                    'right_img': right_img_path,\n",
    "                    'left_disp': left_disp_path,\n",
    "                    'scene': scene,\n",
    "                    'calib_params': calib_params\n",
    "                })\n",
    "                \n",
    "    def __len__(self):\n",
    "        return len(self.samples)\n",
    "    \n",
    "    def __getitem__(self, idx):\n",
    "        sample = self.samples[idx]\n",
    "        \n",
    "        # Get calibration parameters\n",
    "        calib_params = sample['calib_params']\n",
    "        original_width = int(calib_params['width'])\n",
    "        original_height = int(calib_params['height'])\n",
    "        max_disp = int(calib_params['ndisp'])\n",
    "        \n",
    "        # Load images\n",
    "        left_img = Image.open(sample['left_img']).convert('RGB')\n",
    "        right_img = Image.open(sample['right_img']).convert('RGB')\n",
    "        \n",
    "        # Apply transform to RGB images\n",
    "        if self.transform:\n",
    "            left_img = self.transform(left_img)\n",
    "            right_img = self.transform(right_img)\n",
    "        \n",
    "        # Load disparity map\n",
    "        disparity, _ = read_pfm(sample['left_disp'])\n",
    "        disparity = disparity.astype(np.float32)\n",
    "        \n",
    "        # Resize disparity map - use bilinear interpolation\n",
    "        disparity_pil = Image.fromarray(disparity)\n",
    "        disparity_pil = disparity_pil.resize(self.target_size, Image.BILINEAR)\n",
    "        disparity = np.array(disparity_pil)\n",
    "        \n",
    "        # Disparity scaling factor - based on width ratio\n",
    "        width_scale = self.target_size[1] / original_width\n",
    "        disparity = disparity * width_scale\n",
    "        \n",
    "        # Convert disparity to tensor\n",
    "        disparity = torch.from_numpy(disparity)\n",
    "        \n",
    "        # Return sample with calibration parameters\n",
    "        return {\n",
    "            'left': left_img,\n",
    "            'right': right_img,\n",
    "            'disparity': disparity,\n",
    "            'scene': sample['scene'],\n",
    "            'calib_params': calib_params,\n",
    "            'max_disp': max_disp\n",
    "        }"
   ]
  },
  {
   "cell_type": "code",
   "execution_count": null,
   "id": "21fee469",
   "metadata": {},
   "outputs": [],
   "source": [
    "def get_data_loaders(root_dir, fold_idx, k=5, batch_size=1):\n",
    "    \"\"\"\n",
    "    Create train and validation data loaders for k-fold cross-validation\n",
    "\n",
    "    Args:\n",
    "        root_dir (str): Dataset path\n",
    "        fold_idx (int): Current fold index (0 to k-1)\n",
    "        k (int): Number of folds\n",
    "        batch_size (int): Batch size\n",
    "\n",
    "    Returns:\n",
    "        train_loader, val_loader, val_scenes, max_disp\n",
    "    \"\"\"\n",
    "    # List all scenes\n",
    "    scenes = [d for d in os.listdir(root_dir) if os.path.isdir(os.path.join(root_dir, d))]\n",
    "    scenes.sort()  # Ensure consistent order\n",
    "\n",
    "    print(f\"Found {len(scenes)} scenes: {scenes[:5]}...\")\n",
    "\n",
    "    # Set up k-fold cross-validation\n",
    "    kf = KFold(n_splits=k, shuffle=True, random_state=42)\n",
    "\n",
    "    train_indices = []\n",
    "    val_indices = []\n",
    "\n",
    "    for i, (train_idx, val_idx) in enumerate(kf.split(scenes)):\n",
    "        if i == fold_idx:\n",
    "            train_indices = train_idx\n",
    "            val_indices = val_idx\n",
    "            break\n",
    "\n",
    "    train_scenes = [scenes[i] for i in train_indices]\n",
    "    val_scenes = [scenes[i] for i in val_indices]\n",
    "\n",
    "    print(f\"Fold {fold_idx+1}: Train scenes: {len(train_scenes)}, Validation scenes: {len(val_scenes)}\")\n",
    "\n",
    "    # Define transform - specify target size\n",
    "    target_size = (256, 512)\n",
    "    transform = transforms.Compose([\n",
    "        transforms.Resize(target_size),\n",
    "        transforms.ToTensor(),\n",
    "        transforms.Normalize(mean=[0.485, 0.456, 0.406], std=[0.229, 0.224, 0.225])\n",
    "    ])\n",
    "\n",
    "    # Create datasets\n",
    "    train_dataset = MiddleburyDataset(root_dir, train_scenes, transform=transform, phase='train', target_size=target_size)\n",
    "    val_dataset = MiddleburyDataset(root_dir, val_scenes, transform=transform, phase='test', target_size=target_size)\n",
    "\n",
    "    print(f\"Train dataset size: {len(train_dataset)}, Validation dataset size: {len(val_dataset)}\")\n",
    "\n",
    "    # Show calibration info for the first scene\n",
    "    if len(train_dataset) > 0:\n",
    "        sample = train_dataset[0]\n",
    "        calib_params = sample['calib_params']\n",
    "        print(f\"Scene '{sample['scene']}' calibration info:\")\n",
    "        print(f\"  Original size: {int(calib_params['width'])}x{int(calib_params['height'])}\")\n",
    "        print(f\"  Max disparity: {int(calib_params['ndisp'])}\")\n",
    "        print(f\"  Disparity range: {calib_params.get('vmin', 'N/A')} - {calib_params.get('vmax', 'N/A')}\")\n",
    "        print(f\"  Baseline: {calib_params.get('baseline', 'N/A')} mm\")\n",
    "\n",
    "        # Determine max disparity\n",
    "        max_disp = int(calib_params['ndisp'])\n",
    "    else:\n",
    "        max_disp = 192  # Default\n",
    "\n",
    "    # Create data loaders - use num_workers=0 to avoid multiprocessing issues\n",
    "    train_loader = DataLoader(train_dataset, batch_size=batch_size, shuffle=True, num_workers=0)\n",
    "    val_loader = DataLoader(val_dataset, batch_size=batch_size, shuffle=False, num_workers=0)\n",
    "\n",
    "    return train_loader, val_loader, val_scenes, max_disp\n"
   ]
  },
  {
   "cell_type": "code",
   "execution_count": null,
   "id": "b1d6fd3b",
   "metadata": {},
   "outputs": [],
   "source": [
    "def explore_dataset(data_dir):\n",
    "    \"\"\"Explore the dataset and visualize a few samples\"\"\"\n",
    "    scenes = [d for d in os.listdir(data_dir) if os.path.isdir(os.path.join(data_dir, d))]\n",
    "    scenes.sort()\n",
    "    \n",
    "    print(f\"Found {len(scenes)} scenes\")\n",
    "    \n",
    "    # Randomly select 3 scenes for visualization\n",
    "    sample_scenes = random.sample(scenes, min(3, len(scenes)))\n",
    "    \n",
    "    plt.figure(figsize=(15, 10))\n",
    "    \n",
    "    for i, scene in enumerate(sample_scenes):\n",
    "        scene_dir = os.path.join(data_dir, scene)\n",
    "        \n",
    "        # Load left and right images\n",
    "        left_img = Image.open(os.path.join(scene_dir, 'im0.png'))\n",
    "        right_img = Image.open(os.path.join(scene_dir, 'im1.png'))\n",
    "        \n",
    "        # Load disparity map\n",
    "        disparity, _ = read_pfm(os.path.join(scene_dir, 'disp0.pfm'))\n",
    "        \n",
    "        # Normalize disparity map for visualization\n",
    "        disparity_normalized = disparity / np.max(disparity)\n",
    "        \n",
    "        # Plot images\n",
    "        plt.subplot(3, 3, i*3+1)\n",
    "        plt.imshow(left_img)\n",
    "        plt.title(f'{scene} - Left Image')\n",
    "        plt.axis('off')\n",
    "        \n",
    "        plt.subplot(3, 3, i*3+2)\n",
    "        plt.imshow(right_img)\n",
    "        plt.title(f'{scene} - Right Image')\n",
    "        plt.axis('off')\n",
    "        \n",
    "        plt.subplot(3, 3, i*3+3)\n",
    "        plt.imshow(disparity_normalized, cmap='plasma')\n",
    "        plt.title(f'{scene} - Disparity Map')\n",
    "        plt.axis('off')\n",
    "    \n",
    "    plt.tight_layout()\n",
    "    plt.savefig(os.path.join(OUTPUT_DIR, 'dataset_samples.png'))\n",
    "    plt.show()\n",
    "    \n",
    "    print(f\"Dataset samples saved to {os.path.join(OUTPUT_DIR, 'dataset_samples.png')}\")\n",
    "\n",
    "def visualize_batch(batch, output_dir, prefix=\"batch\"):\n",
    "    \"\"\"Visualize samples in a batch\"\"\"\n",
    "    # Process the first sample in the batch\n",
    "    i = 0\n",
    "    left_img = batch['left'][i].permute(1, 2, 0).cpu().numpy()\n",
    "    right_img = batch['right'][i].permute(1, 2, 0).cpu().numpy()\n",
    "    disp_img = batch['disparity'][i].cpu().numpy()\n",
    "    scene_name = batch['scene'][i]\n",
    "    \n",
    "    # Denormalize images\n",
    "    mean = np.array([0.485, 0.456, 0.406])\n",
    "    std = np.array([0.229, 0.224, 0.225])\n",
    "    left_img = left_img * std + mean\n",
    "    right_img = right_img * std + mean\n",
    "    \n",
    "    # Clip to [0,1]\n",
    "    left_img = np.clip(left_img, 0, 1)\n",
    "    right_img = np.clip(right_img, 0, 1)\n",
    "    \n",
    "    # Normalize disparity map\n",
    "    disp_min = disp_img.min()\n",
    "    disp_max = disp_img.max()\n",
    "    if disp_max > disp_min:\n",
    "        disp_normalized = (disp_img - disp_min) / (disp_max - disp_min)\n",
    "    else:\n",
    "        disp_normalized = disp_img\n",
    "    \n",
    "    # Create figure\n",
    "    plt.figure(figsize=(15, 5))\n",
    "    \n",
    "    plt.subplot(1, 3, 1)\n",
    "    plt.imshow(left_img)\n",
    "    plt.title(f'Left Image - {scene_name}')\n",
    "    plt.axis('off')\n",
    "    \n",
    "    plt.subplot(1, 3, 2)\n",
    "    plt.imshow(right_img)\n",
    "    plt.title(f'Right Image - {scene_name}')\n",
    "    plt.axis('off')\n",
    "    \n",
    "    plt.subplot(1, 3, 3)\n",
    "    plt.imshow(disp_normalized, cmap='plasma')\n",
    "    plt.title(f'Disparity Map - {scene_name}')\n",
    "    plt.colorbar(label='Normalized Disparity')\n",
    "    plt.axis('off')\n",
    "    \n",
    "    plt.tight_layout()\n",
    "    plt.savefig(os.path.join(output_dir, f'{prefix}_{scene_name}.png'))\n",
    "    plt.close()\n",
    "    \n",
    "    print(f\"Sample images saved: {os.path.join(output_dir, f'{prefix}_{scene_name}.png')}\")"
   ]
  },
  {
   "cell_type": "code",
   "execution_count": null,
   "id": "3f7bf73b",
   "metadata": {},
   "outputs": [],
   "source": [
    "class BasicBlock(nn.Module):\n",
    "    expansion = 1\n",
    "    def __init__(self, inplanes, planes, stride=1, downsample=None):\n",
    "        super(BasicBlock, self).__init__()\n",
    "        self.conv1 = nn.Conv2d(inplanes, planes, kernel_size=3, stride=stride, padding=1, bias=False)\n",
    "        self.bn1 = nn.BatchNorm2d(planes)\n",
    "        self.relu = nn.ReLU(inplace=True)\n",
    "        self.conv2 = nn.Conv2d(planes, planes, kernel_size=3, stride=1, padding=1, bias=False)\n",
    "        self.bn2 = nn.BatchNorm2d(planes)\n",
    "        self.downsample = downsample\n",
    "        self.stride = stride\n",
    "\n",
    "    def forward(self, x):\n",
    "        residual = x\n",
    "\n",
    "        out = self.conv1(x)\n",
    "        out = self.bn1(out)\n",
    "        out = self.relu(out)\n",
    "\n",
    "        out = self.conv2(out)\n",
    "        out = self.bn2(out)\n",
    "\n",
    "        if self.downsample is not None:\n",
    "            residual = self.downsample(x)\n",
    "\n",
    "        out += residual\n",
    "        out = self.relu(out)\n",
    "\n",
    "        return out\n",
    "\n",
    "class FeatureExtraction(nn.Module):\n",
    "    def __init__(self):\n",
    "        super(FeatureExtraction, self).__init__()\n",
    "        self.inplanes = 64\n",
    "        \n",
    "        self.conv1 = nn.Conv2d(3, 64, kernel_size=7, stride=2, padding=3, bias=False)\n",
    "        self.bn1 = nn.BatchNorm2d(64)\n",
    "        self.relu = nn.ReLU(inplace=True)\n",
    "        self.maxpool = nn.MaxPool2d(kernel_size=3, stride=2, padding=1)\n",
    "        \n",
    "        self.layer1 = self._make_layer(BasicBlock, 64, 3)\n",
    "        self.layer2 = self._make_layer(BasicBlock, 128, 4, stride=2)\n",
    "        self.layer3 = self._make_layer(BasicBlock, 256, 6, stride=2)\n",
    "        self.layer4 = self._make_layer(BasicBlock, 512, 3, stride=2)\n",
    "        \n",
    "    def _make_layer(self, block, planes, blocks, stride=1):\n",
    "        downsample = None\n",
    "        if stride != 1 or self.inplanes != planes * block.expansion:\n",
    "            downsample = nn.Sequential(\n",
    "                nn.Conv2d(self.inplanes, planes * block.expansion,\n",
    "                          kernel_size=1, stride=stride, bias=False),\n",
    "                nn.BatchNorm2d(planes * block.expansion),\n",
    "            )\n",
    "\n",
    "        layers = []\n",
    "        layers.append(block(self.inplanes, planes, stride, downsample))\n",
    "        self.inplanes = planes * block.expansion\n",
    "        for i in range(1, blocks):\n",
    "            layers.append(block(self.inplanes, planes))\n",
    "\n",
    "        return nn.Sequential(*layers)\n",
    "    \n",
    "    def forward(self, x):\n",
    "        x = self.conv1(x)\n",
    "        x = self.bn1(x)\n",
    "        x = self.relu(x)\n",
    "        x = self.maxpool(x)\n",
    "\n",
    "        x1 = self.layer1(x)\n",
    "        x2 = self.layer2(x1)\n",
    "        x3 = self.layer3(x2)\n",
    "        x4 = self.layer4(x3)\n",
    "        \n",
    "        return x4\n",
    "\n",
    "class CostVolume(nn.Module):\n",
    "    def __init__(self, max_disp=192):\n",
    "        super(CostVolume, self).__init__()\n",
    "        self.max_disp = max_disp\n",
    "        \n",
    "    def forward(self, left_feature, right_feature):\n",
    "        B, C, H, W = left_feature.size()\n",
    "        cost_volume = torch.zeros(B, C*2, self.max_disp//4, H, W, device=left_feature.device)\n",
    "        \n",
    "        for i in range(self.max_disp//4):\n",
    "            if i > 0:\n",
    "                cost_volume[:, :C, i, :, i:] = left_feature[:, :, :, i:]\n",
    "                cost_volume[:, C:, i, :, i:] = right_feature[:, :, :, :-i]\n",
    "            else:\n",
    "                cost_volume[:, :C, i, :, :] = left_feature\n",
    "                cost_volume[:, C:, i, :, :] = right_feature\n",
    "                \n",
    "        cost_volume = cost_volume.contiguous()\n",
    "        return cost_volume\n",
    "\n",
    "class CostAggregation(nn.Module):\n",
    "    def __init__(self, in_channels):\n",
    "        super(CostAggregation, self).__init__()\n",
    "        \n",
    "        self.conv3d_1 = nn.Sequential(\n",
    "            nn.Conv3d(in_channels, 64, kernel_size=3, padding=1),\n",
    "            nn.BatchNorm3d(64),\n",
    "            nn.ReLU(inplace=True)\n",
    "        )\n",
    "        \n",
    "        self.conv3d_2 = nn.Sequential(\n",
    "            nn.Conv3d(64, 64, kernel_size=3, padding=1),\n",
    "            nn.BatchNorm3d(64),\n",
    "            nn.ReLU(inplace=True)\n",
    "        )\n",
    "        \n",
    "        self.conv3d_3 = nn.Sequential(\n",
    "            nn.Conv3d(64, 64, kernel_size=3, padding=1),\n",
    "            nn.BatchNorm3d(64),\n",
    "            nn.ReLU(inplace=True)\n",
    "        )\n",
    "        \n",
    "        self.conv3d_4 = nn.Sequential(\n",
    "            nn.Conv3d(64, 1, kernel_size=3, padding=1),\n",
    "        )\n",
    "        \n",
    "    def forward(self, x):\n",
    "        x = self.conv3d_1(x)\n",
    "        x = self.conv3d_2(x)\n",
    "        x = self.conv3d_3(x)\n",
    "        x = self.conv3d_4(x)\n",
    "        return x\n",
    "\n",
    "class DisparityRegression(nn.Module):\n",
    "    def __init__(self, max_disp):\n",
    "        super(DisparityRegression, self).__init__()\n",
    "        self.max_disp = max_disp\n",
    "        \n",
    "    def forward(self, x):\n",
    "        B, _, D, H, W = x.size()\n",
    "        x = F.softmax(x.squeeze(1), dim=1)\n",
    "        \n",
    "        disp_values = torch.arange(0, self.max_disp//4, dtype=torch.float32, device=x.device)\n",
    "        disp_values = disp_values.view(1, D, 1, 1)\n",
    "        \n",
    "        disparity = torch.sum(x * disp_values, dim=1)\n",
    "        \n",
    "        disparity = disparity * 4\n",
    "        \n",
    "        return disparity\n",
    "\n",
    "class StereoNet(nn.Module):\n",
    "    def __init__(self, max_disp=192):\n",
    "        super(StereoNet, self).__init__()\n",
    "        self.max_disp = max_disp\n",
    "        \n",
    "        self.feature_extraction = FeatureExtraction()\n",
    "        \n",
    "        self.cost_volume = CostVolume(max_disp)\n",
    "        \n",
    "        self.cost_aggregation = CostAggregation(512*2)\n",
    "        \n",
    "        self.disparity_regression = DisparityRegression(max_disp)\n",
    "        \n",
    "    def forward(self, left, right):\n",
    "        left_feature = self.feature_extraction(left)\n",
    "        right_feature = self.feature_extraction(right)\n",
    "        \n",
    "        cost_volume = self.cost_volume(left_feature, right_feature)\n",
    "        \n",
    "        cost = self.cost_aggregation(cost_volume)\n",
    "        \n",
    "        disparity = self.disparity_regression(cost)\n",
    "        \n",
    "        disparity = F.interpolate(disparity.unsqueeze(1), size=(left.size(2), left.size(3)), \n",
    "                                 mode='bilinear', align_corners=False).squeeze(1)\n",
    "        \n",
    "        return disparity"
   ]
  },
  {
   "cell_type": "code",
   "execution_count": null,
   "id": "18e27021",
   "metadata": {},
   "outputs": [],
   "source": [
    "def visualize_stereo_results(left_img, right_img, raw_disparity, scene_name, output_dir):\n",
    "    \"\"\"\n",
    "    Create a visualization with left image, right image, and disparity maps (raw and normalized).\n",
    "\n",
    "    Args:\n",
    "        left_img: Left image\n",
    "        right_img: Right image\n",
    "        raw_disparity: Raw disparity map\n",
    "        scene_name: Scene name\n",
    "        output_dir: Output directory\n",
    "    \"\"\"\n",
    "    # Three-column layout: left, right, disparity\n",
    "    plt.figure(figsize=(18, 6))\n",
    "    \n",
    "    # Left image\n",
    "    plt.subplot(1, 3, 1)\n",
    "    plt.imshow(left_img)\n",
    "    plt.title('Left Image')\n",
    "    plt.axis('off')\n",
    "    \n",
    "    # Right image\n",
    "    plt.subplot(1, 3, 2)\n",
    "    plt.imshow(right_img)\n",
    "    plt.title('Right Image')\n",
    "    plt.axis('off')\n",
    "    \n",
    "    # Predicted disparity (raw scale)\n",
    "    plt.subplot(1, 3, 3)\n",
    "    im = plt.imshow(raw_disparity, cmap='plasma')\n",
    "    plt.title('Predicted Disparity')\n",
    "    plt.axis('off')\n",
    "    plt.colorbar(im, label='Disparity (pixels)')\n",
    "    \n",
    "    plt.tight_layout()\n",
    "    plt.savefig(os.path.join(output_dir, f'ex4b_{scene_name}_stereo_result.png'), \n",
    "                dpi=200, bbox_inches='tight')\n",
    "    plt.close()\n",
    "    \n",
    "    # Raw and normalized disparity comparison\n",
    "    plt.figure(figsize=(12, 5))\n",
    "    \n",
    "    # Raw disparity\n",
    "    plt.subplot(1, 2, 1)\n",
    "    im1 = plt.imshow(raw_disparity, cmap='plasma')\n",
    "    plt.title('Original Disparity')\n",
    "    plt.axis('off')\n",
    "    plt.colorbar(im1, label='Disparity (pixels)')\n",
    "    \n",
    "    # Normalized disparity\n",
    "    norm_disp = raw_disparity / np.max(raw_disparity)\n",
    "    plt.subplot(1, 2, 2)\n",
    "    im2 = plt.imshow(norm_disp, cmap='plasma')\n",
    "    plt.title('Normalized Disparity')\n",
    "    plt.axis('off')\n",
    "    plt.colorbar(im2, label='Normalized Disparity')\n",
    "    \n",
    "    plt.tight_layout()\n",
    "    plt.savefig(os.path.join(output_dir, f'ex4b_{scene_name}_disparitymap.png'), \n",
    "                dpi=200, bbox_inches='tight')\n",
    "    plt.close()\n",
    "    \n",
    "    print(f\"Saved disparity visualizations for scene {scene_name}\")\n"
   ]
  },
  {
   "cell_type": "code",
   "execution_count": null,
   "id": "0a5da1b0",
   "metadata": {},
   "outputs": [],
   "source": [
    "def train_model(model, train_loader, val_loader, fold_idx, max_disp=192, num_epochs=20):\n",
    "    \"\"\"Train the stereo model\"\"\"\n",
    "    model.to(device)\n",
    "    \n",
    "    # Loss function\n",
    "    criterion = nn.SmoothL1Loss()\n",
    "    \n",
    "    # Optimizer\n",
    "    optimizer = optim.Adam(model.parameters(), lr=0.001)\n",
    "    \n",
    "    # Learning rate scheduler\n",
    "    scheduler = optim.lr_scheduler.StepLR(optimizer, step_size=10, gamma=0.5)\n",
    "    \n",
    "    # Training loop\n",
    "    best_val_loss = float('inf')\n",
    "    train_losses = []\n",
    "    val_losses = []\n",
    "    val_disparities = []\n",
    "    \n",
    "    for epoch in range(num_epochs):\n",
    "        # Training\n",
    "        model.train()\n",
    "        epoch_loss = 0.0\n",
    "        \n",
    "        for sample in tqdm(train_loader, desc=f'Fold {fold_idx+1}, Epoch {epoch+1}/{num_epochs} (Training)'):\n",
    "            left = sample['left'].to(device)\n",
    "            right = sample['right'].to(device)\n",
    "            target_disp = sample['disparity'].to(device)\n",
    "            \n",
    "            # Forward pass\n",
    "            optimizer.zero_grad()\n",
    "            output_disp = model(left, right)\n",
    "            \n",
    "            # Ensure shape match - resize target disparity if needed\n",
    "            if output_disp.shape[1:] != target_disp.shape[1:]:\n",
    "                target_disp = F.interpolate(target_disp.unsqueeze(1), \n",
    "                                           size=output_disp.shape[1:], \n",
    "                                           mode='bilinear',\n",
    "                                           align_corners=False).squeeze(1)\n",
    "            \n",
    "            # Create mask for valid disparity - use max_disp for each sample\n",
    "            batch_max_disp = max_disp\n",
    "            mask = (target_disp > 0) & (target_disp < batch_max_disp)\n",
    "            \n",
    "            # Compute loss\n",
    "            loss = criterion(output_disp[mask], target_disp[mask])\n",
    "            \n",
    "            # Backpropagation and optimization\n",
    "            loss.backward()\n",
    "            optimizer.step()\n",
    "            \n",
    "            epoch_loss += loss.item()\n",
    "        \n",
    "        avg_train_loss = epoch_loss / len(train_loader)\n",
    "        train_losses.append(avg_train_loss)\n",
    "        \n",
    "        # Validation\n",
    "        model.eval()\n",
    "        val_loss = 0.0\n",
    "        val_disp_errors = []\n",
    "        \n",
    "        with torch.no_grad():\n",
    "            for sample in tqdm(val_loader, desc=f'Fold {fold_idx+1}, Epoch {epoch+1}/{num_epochs} (Validation)'):\n",
    "                left = sample['left'].to(device)\n",
    "                right = sample['right'].to(device)\n",
    "                target_disp = sample['disparity'].to(device)\n",
    "                \n",
    "                # Forward pass\n",
    "                output_disp = model(left, right)\n",
    "                \n",
    "                # Ensure shape match - resize target disparity if needed\n",
    "                if output_disp.shape[1:] != target_disp.shape[1:]:\n",
    "                    target_disp = F.interpolate(target_disp.unsqueeze(1), \n",
    "                                               size=output_disp.shape[1:], \n",
    "                                               mode='bilinear',\n",
    "                                               align_corners=False).squeeze(1)\n",
    "                \n",
    "                # Create mask for valid disparity\n",
    "                batch_max_disp = max_disp\n",
    "                mask = (target_disp > 0) & (target_disp < batch_max_disp)\n",
    "                \n",
    "                # Compute loss\n",
    "                loss = criterion(output_disp[mask], target_disp[mask])\n",
    "                val_loss += loss.item()\n",
    "                \n",
    "                # Compute disparity error\n",
    "                disp_error = torch.abs(output_disp[mask] - target_disp[mask]).mean().item()\n",
    "                val_disp_errors.append(disp_error)\n",
    "                \n",
    "                # Save predicted disparity for the last epoch\n",
    "                if epoch == num_epochs - 1:\n",
    "                    for i in range(output_disp.size(0)):\n",
    "                        calib_params = {k: v for k, v in sample['calib_params'].items()}\n",
    "                        val_disparities.append({\n",
    "                            'scene': sample['scene'][i],\n",
    "                            'disparity': output_disp[i].cpu().numpy(),\n",
    "                            'target': target_disp[i].cpu().numpy(),\n",
    "                            'calib_params': calib_params\n",
    "                        })\n",
    "        \n",
    "        avg_val_loss = val_loss / len(val_loader)\n",
    "        avg_disp_error = np.mean(val_disp_errors)\n",
    "        val_losses.append(avg_val_loss)\n",
    "        \n",
    "        print(f'Fold {fold_idx+1}, Epoch {epoch+1}/{num_epochs}:')\n",
    "        print(f'  Train Loss: {avg_train_loss:.4f}')\n",
    "        print(f'  Val Loss: {avg_val_loss:.4f}')\n",
    "        print(f'  Val Disparity Error: {avg_disp_error:.4f} pixels')\n",
    "        \n",
    "        # Update learning rate\n",
    "        scheduler.step()\n",
    "        \n",
    "        # Save model if validation loss improves\n",
    "        if avg_val_loss < best_val_loss:\n",
    "            best_val_loss = avg_val_loss\n",
    "            torch.save(model.state_dict(), os.path.join(OUTPUT_DIR, f'best_model_fold{fold_idx+1}.pth'))\n",
    "    \n",
    "    return val_disparities, avg_disp_error\n",
    "\n",
    "def run_cross_validation(data_root, output_dir, k=5, num_epochs=20):\n",
    "    \"\"\"Run k-fold cross-validation\"\"\"\n",
    "    # Create output directory\n",
    "    os.makedirs(output_dir, exist_ok=True)\n",
    "    \n",
    "    # Results\n",
    "    all_val_disparities = []\n",
    "    fold_errors = []\n",
    "    test_scenes = []\n",
    "    \n",
    "    # Run k-fold cross-validation\n",
    "    for fold_idx in range(k):\n",
    "        print(f\"Starting fold {fold_idx+1}/{k}\")\n",
    "        \n",
    "        # Get data loaders for current fold\n",
    "        train_loader, val_loader, val_scenes, max_disp = get_data_loaders(data_root, fold_idx, k=k)\n",
    "        test_scenes.append(val_scenes)\n",
    "        \n",
    "        print(f\"Using max disparity: {max_disp}\")\n",
    "        \n",
    "        # Initialize model\n",
    "        model = StereoNet(max_disp=max_disp)\n",
    "        \n",
    "        # Train model\n",
    "        val_disparities, fold_error = train_model(model, train_loader, val_loader, fold_idx, max_disp, num_epochs)\n",
    "        all_val_disparities.extend(val_disparities)\n",
    "        fold_errors.append(fold_error)\n",
    "        \n",
    "        print(f\"Fold {fold_idx+1} completed. Disparity Error: {fold_error:.4f} pixels\")\n",
    "    \n",
    "    # Save cross-validation results\n",
    "    cv_results = pd.DataFrame({\n",
    "        'Fold': range(1, k+1),\n",
    "        'Test_Scenes': [str(scenes) for scenes in test_scenes],\n",
    "        'Disparity_Error': fold_errors\n",
    "    })\n",
    "    cv_results.to_csv(os.path.join(output_dir, 'ex4c_crossvalidation.csv'), index=False)\n",
    "    \n",
    "    # Generate sample disparity and depth maps (first 3 examples)\n",
    "    for i, disp_data in enumerate(all_val_disparities[:3]):\n",
    "        scene = disp_data['scene']\n",
    "        pred_disp = disp_data['disparity']\n",
    "        calib_params = disp_data['calib_params']\n",
    "        \n",
    "        # Get camera parameters\n",
    "        baseline = float(calib_params.get('baseline', 100.0))\n",
    "        focal_length = float(calib_params['cam0'][0])\n",
    "        doffs = float(calib_params.get('doffs', 0.0))\n",
    "        \n",
    "        # Load original images for visualization\n",
    "        scene_dir = os.path.join(data_root, scene)\n",
    "        left_img = Image.open(os.path.join(scene_dir, 'im0.png'))\n",
    "        right_img = Image.open(os.path.join(scene_dir, 'im1.png'))\n",
    "        \n",
    "        # Visualize disparity map\n",
    "        visualize_stereo_results(left_img, right_img, pred_disp, scene, output_dir)\n",
    "        \n",
    "        # Compute depth: Z = (baseline * f) / (d + doffs)\n",
    "        valid_disparity = np.where(pred_disp > 0.1, pred_disp, 0.1)\n",
    "        depth = (baseline * focal_length) / (valid_disparity + doffs)\n",
    "        \n",
    "        # Limit depth range for visualization\n",
    "        depth_cap = np.percentile(depth, 95)\n",
    "        depth_vis = np.clip(depth, 0, depth_cap)\n",
    "        norm_depth = depth_vis / np.max(depth_vis)\n",
    "        \n",
    "        # Save depth map\n",
    "        plt.figure(figsize=(10, 6))\n",
    "        plt.imshow(norm_depth, cmap='viridis')\n",
    "        plt.colorbar(label='Normalized Depth (mm)')\n",
    "        plt.title(f'Predicted Depth Map - Scene: {scene}')\n",
    "        plt.savefig(os.path.join(output_dir, f'ex4b_{scene}_depthmap.png'))\n",
    "        plt.close()\n",
    "    \n",
    "    print(\"Cross-validation completed. Results saved to\", output_dir)\n"
   ]
  },
  {
   "cell_type": "code",
   "execution_count": null,
   "id": "dffa3a77",
   "metadata": {},
   "outputs": [],
   "source": [
    "def visualize_disparity_and_depth(disparity, calib_params, scene_name, output_dir):\n",
    "    \"\"\"\n",
    "    Visualize disparity map and corresponding depth map.\n",
    "\n",
    "    Args:\n",
    "        disparity: Disparity map (numpy array)\n",
    "        calib_params: Calibration parameters (dict)\n",
    "        scene_name: Scene name (str)\n",
    "        output_dir: Output directory (str)\n",
    "    \"\"\"\n",
    "    # Get camera parameters\n",
    "    baseline = float(calib_params.get('baseline', 100.0))\n",
    "    focal_length = float(calib_params['cam0'][0])  # f is at [0,0] in camera matrix\n",
    "    doffs = float(calib_params.get('doffs', 0.0))\n",
    "    \n",
    "    # Compute depth: Z = (baseline * f) / (d + doffs)\n",
    "    valid_disparity = np.where(disparity > 0.1, disparity, 0.1)\n",
    "    depth = (baseline * focal_length) / (valid_disparity + doffs)\n",
    "    \n",
    "    # Plot images\n",
    "    plt.figure(figsize=(15, 6))\n",
    "    \n",
    "    # Disparity map\n",
    "    plt.subplot(1, 2, 1)\n",
    "    plt.imshow(disparity, cmap='plasma')\n",
    "    plt.colorbar(label='Disparity (pixels)')\n",
    "    plt.title(f'Disparity Map - {scene_name}')\n",
    "    \n",
    "    # Depth map\n",
    "    plt.subplot(1, 2, 2)\n",
    "    depth_cap = np.percentile(depth, 95)  # Use 95th percentile as upper limit\n",
    "    depth_vis = np.clip(depth, 0, depth_cap)\n",
    "    plt.imshow(depth_vis, cmap='viridis')\n",
    "    plt.colorbar(label='Depth (mm)')\n",
    "    plt.title(f'Depth Map - {scene_name}')\n",
    "    \n",
    "    plt.tight_layout()\n",
    "    plt.savefig(os.path.join(output_dir, f'{scene_name}_disparity_depth.png'))\n",
    "    plt.close()\n",
    "    \n",
    "    print(f\"Saved disparity and depth map for {scene_name}\")\n"
   ]
  },
  {
   "cell_type": "code",
   "execution_count": null,
   "id": "09d4cc18",
   "metadata": {},
   "outputs": [],
   "source": [
    "def draw_box(draw, x, y, width, height, text, color):\n",
    "    \"\"\"Draw a box with text\"\"\"\n",
    "    # Convert color name to RGB\n",
    "    color_dict = {\n",
    "        \"lightblue\": (173, 216, 230),\n",
    "        \"lightgreen\": (144, 238, 144),\n",
    "        \"orange\": (255, 165, 0),\n",
    "        \"lightsalmon\": (255, 160, 122),\n",
    "        \"lightpink\": (255, 182, 193),\n",
    "        \"gold\": (255, 215, 0)\n",
    "    }\n",
    "    rgb_color = color_dict.get(color, (200, 200, 200))\n",
    "    \n",
    "    # Draw rectangle\n",
    "    draw.rectangle([x, y, x+width, y+height], fill=rgb_color, outline=(0, 0, 0))\n",
    "    \n",
    "    # Draw text\n",
    "    lines = text.split('\\n')\n",
    "    font = ImageFont.load_default()\n",
    "    line_height = height // (len(lines) + 1)\n",
    "    \n",
    "    for i, line in enumerate(lines):\n",
    "        text_width = len(line) * 6  # Approximate text width\n",
    "        text_x = x + (width - text_width) // 2\n",
    "        text_y = y + (i + 1) * line_height\n",
    "        draw.text((text_x, text_y), line, fill=(0, 0, 0))\n",
    "\n",
    "def draw_arrow(draw, x1, y1, x2, y2):\n",
    "    \"\"\"Draw an arrow from (x1, y1) to (x2, y2)\"\"\"\n",
    "    draw.line([x1, y1, x2, y2], fill=(0, 0, 0), width=2)\n",
    "    \n",
    "    # Draw arrow head\n",
    "    angle = np.arctan2(y2 - y1, x2 - x1)\n",
    "    arrow_length = 10\n",
    "    arrow_width = 5\n",
    "    \n",
    "    x_end = x2\n",
    "    y_end = y2\n",
    "    \n",
    "    # Calculate arrow head points\n",
    "    x_arrow1 = x_end - arrow_length * np.cos(angle) + arrow_width * np.sin(angle)\n",
    "    y_arrow1 = y_end - arrow_length * np.sin(angle) - arrow_width * np.cos(angle)\n",
    "    \n",
    "    x_arrow2 = x_end - arrow_length * np.cos(angle) - arrow_width * np.sin(angle)\n",
    "    y_arrow2 = y_end - arrow_length * np.sin(angle) + arrow_width * np.cos(angle)\n",
    "    \n",
    "    # Draw arrow head\n",
    "    draw.polygon([(x_end, y_end), (x_arrow1, y_arrow1), (x_arrow2, y_arrow2)], fill=(0, 0, 0))\n",
    "\n",
    "def create_architecture_diagram(output_path=os.path.join(OUTPUT_DIR, 'ex4a_architecture.png')):\n",
    "    \"\"\"Create a visualization of the PSMNet architecture\"\"\"\n",
    "    os.makedirs(os.path.dirname(output_path), exist_ok=True)\n",
    "    \n",
    "    # Create a large blank image\n",
    "    img_width = 1200\n",
    "    img_height = 800\n",
    "    img = Image.new('RGB', (img_width, img_height), color=(255, 255, 255))\n",
    "    draw = ImageDraw.Draw(img)\n",
    "    \n",
    "    # Define box size and position\n",
    "    box_width = 160\n",
    "    box_height = 80\n",
    "    \n",
    "    # Draw architecture components\n",
    "    \n",
    "    # Input images\n",
    "    draw_box(draw, 100, 100, box_width, box_height, \"Left Image\\n(Input)\", \"lightblue\")\n",
    "    draw_box(draw, 100, 250, box_width, box_height, \"Right Image\\n(Input)\", \"lightblue\")\n",
    "    \n",
    "    # Feature extraction (shared weights)\n",
    "    draw_box(draw, 350, 100, box_width, box_height, \"Feature\\nExtraction\\n(ResNet)\", \"lightgreen\")\n",
    "    draw_box(draw, 350, 250, box_width, box_height, \"Feature\\nExtraction\\n(Shared weights)\", \"lightgreen\")\n",
    "    \n",
    "    # Draw arrows from input to feature extraction\n",
    "    draw_arrow(draw, 100+box_width, 100+box_height//2, 350, 100+box_height//2)\n",
    "    draw_arrow(draw, 100+box_width, 250+box_height//2, 350, 250+box_height//2)\n",
    "    \n",
    "    # Cost volume\n",
    "    draw_box(draw, 600, 175, box_width, box_height, \"Cost Volume\\nConstruction\", \"orange\")\n",
    "    \n",
    "    # Draw arrows from feature extraction to cost volume\n",
    "    draw_arrow(draw, 350+box_width, 100+box_height//2, 600, 175+box_height//2)\n",
    "    draw_arrow(draw, 350+box_width, 250+box_height//2, 600, 175+box_height//2)\n",
    "    \n",
    "    # 3D CNN for cost aggregation\n",
    "    draw_box(draw, 850, 175, box_width, box_height, \"3D CNN\\nCost Aggregation\", \"lightsalmon\")\n",
    "    \n",
    "    # Draw arrow from cost volume to cost aggregation\n",
    "    draw_arrow(draw, 600+box_width, 175+box_height//2, 850, 175+box_height//2)\n",
    "    \n",
    "    # Disparity regression\n",
    "    draw_box(draw, 850, 350, box_width, box_height, \"Disparity\\nRegression\", \"lightpink\")\n",
    "    \n",
    "    # Draw arrow from cost aggregation to disparity regression\n",
    "    draw_arrow(draw, 850+box_width//2, 175+box_height, 850+box_width//2, 350)\n",
    "    \n",
    "    # Output disparity map\n",
    "    draw_box(draw, 600, 500, box_width, box_height, \"Disparity Map\\n(Output)\", \"gold\")\n",
    "    \n",
    "    # Draw arrows from disparity regression to output\n",
    "    draw_arrow(draw, 850+box_width//2, 350+box_height, 850+box_width//2, 500+box_height//2)\n",
    "    draw_arrow(draw, 850+box_width//2, 500+box_height//2, 600+box_width, 500+box_height//2)\n",
    "    \n",
    "    # Title and legend\n",
    "    font = ImageFont.load_default()\n",
    "    draw.text((450, 30), \"PSMNet Architecture for Stereo Depth Estimation\", fill=(0, 0, 0))\n",
    "    \n",
    "    # Save diagram\n",
    "    img.save(output_path)\n",
    "    print(f\"Architecture diagram saved to {output_path}\")"
   ]
  },
  {
   "cell_type": "code",
   "execution_count": null,
   "id": "55f70880",
   "metadata": {},
   "outputs": [
    {
     "name": "stdout",
     "output_type": "stream",
     "text": [
      "Architecture diagram saved to ../results/ex4a_architecture.png\n",
      "\n",
      "读取样本校准文件: ../inputs/MiddleburyDataset/data/artroom2/calib.txt\n",
      "校准参数:\n",
      "  cam0: [1734.04, 0.0, -133.21, 0.0, 1734.04, 542.27, 0.0, 0.0, 1.0]\n",
      "  cam1: [1734.04, 0.0, -133.21, 0.0, 1734.04, 542.27, 0.0, 0.0, 1.0]\n",
      "  doffs: 0.0\n",
      "  baseline: 529.5\n",
      "  width: 1920.0\n",
      "  height: 1080.0\n",
      "  ndisp: 190.0\n",
      "  vmin: 55.0\n",
      "  vmax: 160.0\n",
      "Starting fold 1/5\n",
      "找到 24 个场景: ['artroom1', 'artroom2', 'bandsaw1', 'bandsaw2', 'chess1']...\n",
      "Fold 1: 训练场景数: 19, 验证场景数: 5\n",
      "训练数据集大小: 19, 验证数据集大小: 5\n",
      "场景 'artroom2' 校准信息:\n",
      "  原始尺寸: 1920x1080\n",
      "  最大视差: 190\n",
      "  视差范围: 55.0 - 160.0\n",
      "  基线长度: 529.5 mm\n",
      "使用最大视差值: 190\n"
     ]
    },
    {
     "name": "stderr",
     "output_type": "stream",
     "text": [
      "Fold 1, Epoch 1/20 (Training): 100%|██████████| 19/19 [00:04<00:00,  4.42it/s]\n",
      "Fold 1, Epoch 1/20 (Validation): 100%|██████████| 5/5 [00:00<00:00,  9.33it/s]\n"
     ]
    },
    {
     "name": "stdout",
     "output_type": "stream",
     "text": [
      "Fold 1, Epoch 1/20:\n",
      "  Train Loss: 14.0946\n",
      "  Val Loss: 8.8388\n",
      "  Val Disparity Error: 9.3245 pixels\n"
     ]
    },
    {
     "name": "stderr",
     "output_type": "stream",
     "text": [
      "Fold 1, Epoch 2/20 (Training): 100%|██████████| 19/19 [00:03<00:00,  5.19it/s]\n",
      "Fold 1, Epoch 2/20 (Validation): 100%|██████████| 5/5 [00:00<00:00,  9.97it/s]\n"
     ]
    },
    {
     "name": "stdout",
     "output_type": "stream",
     "text": [
      "Fold 1, Epoch 2/20:\n",
      "  Train Loss: 13.0149\n",
      "  Val Loss: 8.2655\n",
      "  Val Disparity Error: 8.7573 pixels\n"
     ]
    },
    {
     "name": "stderr",
     "output_type": "stream",
     "text": [
      "Fold 1, Epoch 3/20 (Training): 100%|██████████| 19/19 [00:03<00:00,  5.10it/s]\n",
      "Fold 1, Epoch 3/20 (Validation): 100%|██████████| 5/5 [00:00<00:00, 10.79it/s]\n"
     ]
    },
    {
     "name": "stdout",
     "output_type": "stream",
     "text": [
      "Fold 1, Epoch 3/20:\n",
      "  Train Loss: 11.8998\n",
      "  Val Loss: 8.6897\n",
      "  Val Disparity Error: 9.1835 pixels\n"
     ]
    },
    {
     "name": "stderr",
     "output_type": "stream",
     "text": [
      "Fold 1, Epoch 4/20 (Training): 100%|██████████| 19/19 [00:03<00:00,  5.17it/s]\n",
      "Fold 1, Epoch 4/20 (Validation): 100%|██████████| 5/5 [00:00<00:00, 10.14it/s]\n"
     ]
    },
    {
     "name": "stdout",
     "output_type": "stream",
     "text": [
      "Fold 1, Epoch 4/20:\n",
      "  Train Loss: 12.1519\n",
      "  Val Loss: 8.6833\n",
      "  Val Disparity Error: 9.1747 pixels\n"
     ]
    },
    {
     "name": "stderr",
     "output_type": "stream",
     "text": [
      "Fold 1, Epoch 5/20 (Training): 100%|██████████| 19/19 [00:03<00:00,  5.18it/s]\n",
      "Fold 1, Epoch 5/20 (Validation): 100%|██████████| 5/5 [00:00<00:00, 10.34it/s]\n"
     ]
    },
    {
     "name": "stdout",
     "output_type": "stream",
     "text": [
      "Fold 1, Epoch 5/20:\n",
      "  Train Loss: 11.1793\n",
      "  Val Loss: 7.8602\n",
      "  Val Disparity Error: 8.3516 pixels\n"
     ]
    },
    {
     "name": "stderr",
     "output_type": "stream",
     "text": [
      "Fold 1, Epoch 6/20 (Training): 100%|██████████| 19/19 [00:03<00:00,  5.17it/s]\n",
      "Fold 1, Epoch 6/20 (Validation): 100%|██████████| 5/5 [00:00<00:00, 10.47it/s]\n"
     ]
    },
    {
     "name": "stdout",
     "output_type": "stream",
     "text": [
      "Fold 1, Epoch 6/20:\n",
      "  Train Loss: 11.3696\n",
      "  Val Loss: 9.0306\n",
      "  Val Disparity Error: 9.5149 pixels\n"
     ]
    },
    {
     "name": "stderr",
     "output_type": "stream",
     "text": [
      "Fold 1, Epoch 7/20 (Training): 100%|██████████| 19/19 [00:03<00:00,  5.23it/s]\n",
      "Fold 1, Epoch 7/20 (Validation): 100%|██████████| 5/5 [00:00<00:00, 10.60it/s]\n"
     ]
    },
    {
     "name": "stdout",
     "output_type": "stream",
     "text": [
      "Fold 1, Epoch 7/20:\n",
      "  Train Loss: 12.1041\n",
      "  Val Loss: 8.3884\n",
      "  Val Disparity Error: 8.8791 pixels\n"
     ]
    },
    {
     "name": "stderr",
     "output_type": "stream",
     "text": [
      "Fold 1, Epoch 8/20 (Training): 100%|██████████| 19/19 [00:03<00:00,  5.14it/s]\n",
      "Fold 1, Epoch 8/20 (Validation): 100%|██████████| 5/5 [00:00<00:00, 10.39it/s]\n"
     ]
    },
    {
     "name": "stdout",
     "output_type": "stream",
     "text": [
      "Fold 1, Epoch 8/20:\n",
      "  Train Loss: 10.6125\n",
      "  Val Loss: 9.3530\n",
      "  Val Disparity Error: 9.8433 pixels\n"
     ]
    },
    {
     "name": "stderr",
     "output_type": "stream",
     "text": [
      "Fold 1, Epoch 9/20 (Training): 100%|██████████| 19/19 [00:03<00:00,  5.24it/s]\n",
      "Fold 1, Epoch 9/20 (Validation): 100%|██████████| 5/5 [00:00<00:00, 10.58it/s]\n"
     ]
    },
    {
     "name": "stdout",
     "output_type": "stream",
     "text": [
      "Fold 1, Epoch 9/20:\n",
      "  Train Loss: 11.4159\n",
      "  Val Loss: 9.2014\n",
      "  Val Disparity Error: 9.6956 pixels\n"
     ]
    },
    {
     "name": "stderr",
     "output_type": "stream",
     "text": [
      "Fold 1, Epoch 10/20 (Training): 100%|██████████| 19/19 [00:03<00:00,  5.24it/s]\n",
      "Fold 1, Epoch 10/20 (Validation): 100%|██████████| 5/5 [00:00<00:00, 10.56it/s]\n"
     ]
    },
    {
     "name": "stdout",
     "output_type": "stream",
     "text": [
      "Fold 1, Epoch 10/20:\n",
      "  Train Loss: 10.2963\n",
      "  Val Loss: 9.0543\n",
      "  Val Disparity Error: 9.5421 pixels\n"
     ]
    },
    {
     "name": "stderr",
     "output_type": "stream",
     "text": [
      "Fold 1, Epoch 11/20 (Training): 100%|██████████| 19/19 [00:03<00:00,  5.24it/s]\n",
      "Fold 1, Epoch 11/20 (Validation): 100%|██████████| 5/5 [00:00<00:00, 10.45it/s]\n"
     ]
    },
    {
     "name": "stdout",
     "output_type": "stream",
     "text": [
      "Fold 1, Epoch 11/20:\n",
      "  Train Loss: 9.0097\n",
      "  Val Loss: 8.8735\n",
      "  Val Disparity Error: 9.3650 pixels\n"
     ]
    },
    {
     "name": "stderr",
     "output_type": "stream",
     "text": [
      "Fold 1, Epoch 12/20 (Training): 100%|██████████| 19/19 [00:03<00:00,  5.23it/s]\n",
      "Fold 1, Epoch 12/20 (Validation): 100%|██████████| 5/5 [00:00<00:00, 10.58it/s]\n"
     ]
    },
    {
     "name": "stdout",
     "output_type": "stream",
     "text": [
      "Fold 1, Epoch 12/20:\n",
      "  Train Loss: 8.2319\n",
      "  Val Loss: 10.1496\n",
      "  Val Disparity Error: 10.6422 pixels\n"
     ]
    },
    {
     "name": "stderr",
     "output_type": "stream",
     "text": [
      "Fold 1, Epoch 13/20 (Training): 100%|██████████| 19/19 [00:03<00:00,  5.23it/s]\n",
      "Fold 1, Epoch 13/20 (Validation): 100%|██████████| 5/5 [00:00<00:00, 10.41it/s]\n"
     ]
    },
    {
     "name": "stdout",
     "output_type": "stream",
     "text": [
      "Fold 1, Epoch 13/20:\n",
      "  Train Loss: 7.9309\n",
      "  Val Loss: 10.3505\n",
      "  Val Disparity Error: 10.8423 pixels\n"
     ]
    },
    {
     "name": "stderr",
     "output_type": "stream",
     "text": [
      "Fold 1, Epoch 14/20 (Training): 100%|██████████| 19/19 [00:03<00:00,  5.22it/s]\n",
      "Fold 1, Epoch 14/20 (Validation): 100%|██████████| 5/5 [00:00<00:00, 10.43it/s]\n"
     ]
    },
    {
     "name": "stdout",
     "output_type": "stream",
     "text": [
      "Fold 1, Epoch 14/20:\n",
      "  Train Loss: 8.2040\n",
      "  Val Loss: 9.1729\n",
      "  Val Disparity Error: 9.6651 pixels\n"
     ]
    },
    {
     "name": "stderr",
     "output_type": "stream",
     "text": [
      "Fold 1, Epoch 15/20 (Training): 100%|██████████| 19/19 [00:03<00:00,  5.19it/s]\n",
      "Fold 1, Epoch 15/20 (Validation): 100%|██████████| 5/5 [00:00<00:00, 10.50it/s]\n"
     ]
    },
    {
     "name": "stdout",
     "output_type": "stream",
     "text": [
      "Fold 1, Epoch 15/20:\n",
      "  Train Loss: 7.7249\n",
      "  Val Loss: 9.8933\n",
      "  Val Disparity Error: 10.3804 pixels\n"
     ]
    },
    {
     "name": "stderr",
     "output_type": "stream",
     "text": [
      "Fold 1, Epoch 16/20 (Training): 100%|██████████| 19/19 [00:03<00:00,  5.21it/s]\n",
      "Fold 1, Epoch 16/20 (Validation): 100%|██████████| 5/5 [00:00<00:00, 10.43it/s]\n"
     ]
    },
    {
     "name": "stdout",
     "output_type": "stream",
     "text": [
      "Fold 1, Epoch 16/20:\n",
      "  Train Loss: 6.7629\n",
      "  Val Loss: 9.8953\n",
      "  Val Disparity Error: 10.3847 pixels\n"
     ]
    },
    {
     "name": "stderr",
     "output_type": "stream",
     "text": [
      "Fold 1, Epoch 17/20 (Training): 100%|██████████| 19/19 [00:03<00:00,  5.21it/s]\n",
      "Fold 1, Epoch 17/20 (Validation): 100%|██████████| 5/5 [00:00<00:00, 10.34it/s]\n"
     ]
    },
    {
     "name": "stdout",
     "output_type": "stream",
     "text": [
      "Fold 1, Epoch 17/20:\n",
      "  Train Loss: 6.9121\n",
      "  Val Loss: 8.6503\n",
      "  Val Disparity Error: 9.1379 pixels\n"
     ]
    },
    {
     "name": "stderr",
     "output_type": "stream",
     "text": [
      "Fold 1, Epoch 18/20 (Training): 100%|██████████| 19/19 [00:03<00:00,  5.22it/s]\n",
      "Fold 1, Epoch 18/20 (Validation): 100%|██████████| 5/5 [00:00<00:00, 10.46it/s]\n"
     ]
    },
    {
     "name": "stdout",
     "output_type": "stream",
     "text": [
      "Fold 1, Epoch 18/20:\n",
      "  Train Loss: 6.5328\n",
      "  Val Loss: 10.9174\n",
      "  Val Disparity Error: 11.4092 pixels\n"
     ]
    },
    {
     "name": "stderr",
     "output_type": "stream",
     "text": [
      "Fold 1, Epoch 19/20 (Training): 100%|██████████| 19/19 [00:03<00:00,  5.21it/s]\n",
      "Fold 1, Epoch 19/20 (Validation): 100%|██████████| 5/5 [00:00<00:00, 10.50it/s]\n"
     ]
    },
    {
     "name": "stdout",
     "output_type": "stream",
     "text": [
      "Fold 1, Epoch 19/20:\n",
      "  Train Loss: 6.4378\n",
      "  Val Loss: 8.9175\n",
      "  Val Disparity Error: 9.4080 pixels\n"
     ]
    },
    {
     "name": "stderr",
     "output_type": "stream",
     "text": [
      "Fold 1, Epoch 20/20 (Training): 100%|██████████| 19/19 [00:03<00:00,  5.22it/s]\n",
      "Fold 1, Epoch 20/20 (Validation): 100%|██████████| 5/5 [00:00<00:00, 10.18it/s]\n"
     ]
    },
    {
     "name": "stdout",
     "output_type": "stream",
     "text": [
      "Fold 1, Epoch 20/20:\n",
      "  Train Loss: 7.6067\n",
      "  Val Loss: 10.3932\n",
      "  Val Disparity Error: 10.8831 pixels\n",
      "Fold 1 completed. Disparity Error: 10.8831 pixels\n",
      "Starting fold 2/5\n",
      "找到 24 个场景: ['artroom1', 'artroom2', 'bandsaw1', 'bandsaw2', 'chess1']...\n",
      "Fold 2: 训练场景数: 19, 验证场景数: 5\n",
      "训练数据集大小: 19, 验证数据集大小: 5\n",
      "场景 'artroom1' 校准信息:\n",
      "  原始尺寸: 1920x1080\n",
      "  最大视差: 170\n",
      "  视差范围: 55.0 - 142.0\n",
      "  基线长度: 536.62 mm\n",
      "使用最大视差值: 170\n"
     ]
    },
    {
     "name": "stderr",
     "output_type": "stream",
     "text": [
      "Fold 2, Epoch 1/20 (Training): 100%|██████████| 19/19 [00:03<00:00,  5.37it/s]\n",
      "Fold 2, Epoch 1/20 (Validation): 100%|██████████| 5/5 [00:00<00:00,  9.63it/s]\n"
     ]
    },
    {
     "name": "stdout",
     "output_type": "stream",
     "text": [
      "Fold 2, Epoch 1/20:\n",
      "  Train Loss: 17.6182\n",
      "  Val Loss: 12.4823\n",
      "  Val Disparity Error: 12.9749 pixels\n"
     ]
    },
    {
     "name": "stderr",
     "output_type": "stream",
     "text": [
      "Fold 2, Epoch 2/20 (Training): 100%|██████████| 19/19 [00:03<00:00,  5.45it/s]\n",
      "Fold 2, Epoch 2/20 (Validation): 100%|██████████| 5/5 [00:00<00:00, 10.68it/s]\n"
     ]
    },
    {
     "name": "stdout",
     "output_type": "stream",
     "text": [
      "Fold 2, Epoch 2/20:\n",
      "  Train Loss: 15.1045\n",
      "  Val Loss: 12.7730\n",
      "  Val Disparity Error: 13.2634 pixels\n"
     ]
    },
    {
     "name": "stderr",
     "output_type": "stream",
     "text": [
      "Fold 2, Epoch 3/20 (Training): 100%|██████████| 19/19 [00:03<00:00,  5.49it/s]\n",
      "Fold 2, Epoch 3/20 (Validation): 100%|██████████| 5/5 [00:00<00:00, 10.44it/s]\n"
     ]
    },
    {
     "name": "stdout",
     "output_type": "stream",
     "text": [
      "Fold 2, Epoch 3/20:\n",
      "  Train Loss: 12.9142\n",
      "  Val Loss: 10.7900\n",
      "  Val Disparity Error: 11.2767 pixels\n"
     ]
    },
    {
     "name": "stderr",
     "output_type": "stream",
     "text": [
      "Fold 2, Epoch 4/20 (Training): 100%|██████████| 19/19 [00:03<00:00,  5.49it/s]\n",
      "Fold 2, Epoch 4/20 (Validation): 100%|██████████| 5/5 [00:00<00:00, 10.56it/s]\n"
     ]
    },
    {
     "name": "stdout",
     "output_type": "stream",
     "text": [
      "Fold 2, Epoch 4/20:\n",
      "  Train Loss: 12.1016\n",
      "  Val Loss: 10.6764\n",
      "  Val Disparity Error: 11.1697 pixels\n"
     ]
    },
    {
     "name": "stderr",
     "output_type": "stream",
     "text": [
      "Fold 2, Epoch 5/20 (Training): 100%|██████████| 19/19 [00:03<00:00,  5.48it/s]\n",
      "Fold 2, Epoch 5/20 (Validation): 100%|██████████| 5/5 [00:00<00:00, 10.49it/s]\n"
     ]
    },
    {
     "name": "stdout",
     "output_type": "stream",
     "text": [
      "Fold 2, Epoch 5/20:\n",
      "  Train Loss: 12.1862\n",
      "  Val Loss: 10.2699\n",
      "  Val Disparity Error: 10.7581 pixels\n"
     ]
    },
    {
     "name": "stderr",
     "output_type": "stream",
     "text": [
      "Fold 2, Epoch 6/20 (Training): 100%|██████████| 19/19 [00:03<00:00,  5.48it/s]\n",
      "Fold 2, Epoch 6/20 (Validation): 100%|██████████| 5/5 [00:00<00:00, 10.27it/s]\n"
     ]
    },
    {
     "name": "stdout",
     "output_type": "stream",
     "text": [
      "Fold 2, Epoch 6/20:\n",
      "  Train Loss: 11.6844\n",
      "  Val Loss: 9.1238\n",
      "  Val Disparity Error: 9.6126 pixels\n"
     ]
    },
    {
     "name": "stderr",
     "output_type": "stream",
     "text": [
      "Fold 2, Epoch 7/20 (Training): 100%|██████████| 19/19 [00:03<00:00,  5.46it/s]\n",
      "Fold 2, Epoch 7/20 (Validation): 100%|██████████| 5/5 [00:00<00:00, 10.59it/s]\n"
     ]
    },
    {
     "name": "stdout",
     "output_type": "stream",
     "text": [
      "Fold 2, Epoch 7/20:\n",
      "  Train Loss: 12.6165\n",
      "  Val Loss: 10.8620\n",
      "  Val Disparity Error: 11.3540 pixels\n"
     ]
    },
    {
     "name": "stderr",
     "output_type": "stream",
     "text": [
      "Fold 2, Epoch 8/20 (Training): 100%|██████████| 19/19 [00:03<00:00,  5.49it/s]\n",
      "Fold 2, Epoch 8/20 (Validation): 100%|██████████| 5/5 [00:00<00:00, 10.53it/s]\n"
     ]
    },
    {
     "name": "stdout",
     "output_type": "stream",
     "text": [
      "Fold 2, Epoch 8/20:\n",
      "  Train Loss: 12.3369\n",
      "  Val Loss: 10.6270\n",
      "  Val Disparity Error: 11.1167 pixels\n"
     ]
    },
    {
     "name": "stderr",
     "output_type": "stream",
     "text": [
      "Fold 2, Epoch 9/20 (Training): 100%|██████████| 19/19 [00:03<00:00,  5.48it/s]\n",
      "Fold 2, Epoch 9/20 (Validation): 100%|██████████| 5/5 [00:00<00:00, 10.69it/s]\n"
     ]
    },
    {
     "name": "stdout",
     "output_type": "stream",
     "text": [
      "Fold 2, Epoch 9/20:\n",
      "  Train Loss: 11.7761\n",
      "  Val Loss: 9.8129\n",
      "  Val Disparity Error: 10.2986 pixels\n"
     ]
    },
    {
     "name": "stderr",
     "output_type": "stream",
     "text": [
      "Fold 2, Epoch 10/20 (Training): 100%|██████████| 19/19 [00:03<00:00,  5.49it/s]\n",
      "Fold 2, Epoch 10/20 (Validation): 100%|██████████| 5/5 [00:00<00:00, 10.51it/s]\n"
     ]
    },
    {
     "name": "stdout",
     "output_type": "stream",
     "text": [
      "Fold 2, Epoch 10/20:\n",
      "  Train Loss: 11.5468\n",
      "  Val Loss: 10.8969\n",
      "  Val Disparity Error: 11.3885 pixels\n"
     ]
    },
    {
     "name": "stderr",
     "output_type": "stream",
     "text": [
      "Fold 2, Epoch 11/20 (Training): 100%|██████████| 19/19 [00:03<00:00,  5.49it/s]\n",
      "Fold 2, Epoch 11/20 (Validation): 100%|██████████| 5/5 [00:00<00:00, 10.66it/s]\n"
     ]
    },
    {
     "name": "stdout",
     "output_type": "stream",
     "text": [
      "Fold 2, Epoch 11/20:\n",
      "  Train Loss: 11.4907\n",
      "  Val Loss: 10.8768\n",
      "  Val Disparity Error: 11.3698 pixels\n"
     ]
    },
    {
     "name": "stderr",
     "output_type": "stream",
     "text": [
      "Fold 2, Epoch 12/20 (Training): 100%|██████████| 19/19 [00:03<00:00,  5.49it/s]\n",
      "Fold 2, Epoch 12/20 (Validation): 100%|██████████| 5/5 [00:00<00:00, 10.60it/s]\n"
     ]
    },
    {
     "name": "stdout",
     "output_type": "stream",
     "text": [
      "Fold 2, Epoch 12/20:\n",
      "  Train Loss: 11.7714\n",
      "  Val Loss: 9.6365\n",
      "  Val Disparity Error: 10.1258 pixels\n"
     ]
    },
    {
     "name": "stderr",
     "output_type": "stream",
     "text": [
      "Fold 2, Epoch 13/20 (Training): 100%|██████████| 19/19 [00:03<00:00,  5.50it/s]\n",
      "Fold 2, Epoch 13/20 (Validation): 100%|██████████| 5/5 [00:00<00:00, 10.54it/s]\n"
     ]
    },
    {
     "name": "stdout",
     "output_type": "stream",
     "text": [
      "Fold 2, Epoch 13/20:\n",
      "  Train Loss: 10.7985\n",
      "  Val Loss: 9.8952\n",
      "  Val Disparity Error: 10.3830 pixels\n"
     ]
    },
    {
     "name": "stderr",
     "output_type": "stream",
     "text": [
      "Fold 2, Epoch 14/20 (Training): 100%|██████████| 19/19 [00:03<00:00,  5.49it/s]\n",
      "Fold 2, Epoch 14/20 (Validation): 100%|██████████| 5/5 [00:00<00:00, 10.55it/s]\n"
     ]
    },
    {
     "name": "stdout",
     "output_type": "stream",
     "text": [
      "Fold 2, Epoch 14/20:\n",
      "  Train Loss: 10.2616\n",
      "  Val Loss: 10.5591\n",
      "  Val Disparity Error: 11.0487 pixels\n"
     ]
    },
    {
     "name": "stderr",
     "output_type": "stream",
     "text": [
      "Fold 2, Epoch 15/20 (Training): 100%|██████████| 19/19 [00:03<00:00,  5.50it/s]\n",
      "Fold 2, Epoch 15/20 (Validation): 100%|██████████| 5/5 [00:00<00:00, 10.50it/s]\n"
     ]
    },
    {
     "name": "stdout",
     "output_type": "stream",
     "text": [
      "Fold 2, Epoch 15/20:\n",
      "  Train Loss: 10.9393\n",
      "  Val Loss: 10.6058\n",
      "  Val Disparity Error: 11.0967 pixels\n"
     ]
    },
    {
     "name": "stderr",
     "output_type": "stream",
     "text": [
      "Fold 2, Epoch 16/20 (Training): 100%|██████████| 19/19 [00:03<00:00,  5.49it/s]\n",
      "Fold 2, Epoch 16/20 (Validation): 100%|██████████| 5/5 [00:00<00:00, 10.55it/s]\n"
     ]
    },
    {
     "name": "stdout",
     "output_type": "stream",
     "text": [
      "Fold 2, Epoch 16/20:\n",
      "  Train Loss: 10.0145\n",
      "  Val Loss: 9.7758\n",
      "  Val Disparity Error: 10.2658 pixels\n"
     ]
    },
    {
     "name": "stderr",
     "output_type": "stream",
     "text": [
      "Fold 2, Epoch 17/20 (Training): 100%|██████████| 19/19 [00:03<00:00,  5.48it/s]\n",
      "Fold 2, Epoch 17/20 (Validation): 100%|██████████| 5/5 [00:00<00:00, 10.59it/s]\n"
     ]
    },
    {
     "name": "stdout",
     "output_type": "stream",
     "text": [
      "Fold 2, Epoch 17/20:\n",
      "  Train Loss: 9.1785\n",
      "  Val Loss: 11.4566\n",
      "  Val Disparity Error: 11.9441 pixels\n"
     ]
    },
    {
     "name": "stderr",
     "output_type": "stream",
     "text": [
      "Fold 2, Epoch 18/20 (Training): 100%|██████████| 19/19 [00:03<00:00,  5.49it/s]\n",
      "Fold 2, Epoch 18/20 (Validation): 100%|██████████| 5/5 [00:00<00:00, 10.54it/s]\n"
     ]
    },
    {
     "name": "stdout",
     "output_type": "stream",
     "text": [
      "Fold 2, Epoch 18/20:\n",
      "  Train Loss: 8.7437\n",
      "  Val Loss: 11.2472\n",
      "  Val Disparity Error: 11.7330 pixels\n"
     ]
    },
    {
     "name": "stderr",
     "output_type": "stream",
     "text": [
      "Fold 2, Epoch 19/20 (Training): 100%|██████████| 19/19 [00:03<00:00,  5.49it/s]\n",
      "Fold 2, Epoch 19/20 (Validation): 100%|██████████| 5/5 [00:00<00:00, 10.51it/s]\n"
     ]
    },
    {
     "name": "stdout",
     "output_type": "stream",
     "text": [
      "Fold 2, Epoch 19/20:\n",
      "  Train Loss: 8.8464\n",
      "  Val Loss: 10.7380\n",
      "  Val Disparity Error: 11.2278 pixels\n"
     ]
    },
    {
     "name": "stderr",
     "output_type": "stream",
     "text": [
      "Fold 2, Epoch 20/20 (Training): 100%|██████████| 19/19 [00:03<00:00,  5.47it/s]\n",
      "Fold 2, Epoch 20/20 (Validation): 100%|██████████| 5/5 [00:00<00:00, 10.43it/s]\n"
     ]
    },
    {
     "name": "stdout",
     "output_type": "stream",
     "text": [
      "Fold 2, Epoch 20/20:\n",
      "  Train Loss: 8.4031\n",
      "  Val Loss: 9.5913\n",
      "  Val Disparity Error: 10.0803 pixels\n",
      "Fold 2 completed. Disparity Error: 10.0803 pixels\n",
      "Starting fold 3/5\n",
      "找到 24 个场景: ['artroom1', 'artroom2', 'bandsaw1', 'bandsaw2', 'chess1']...\n",
      "Fold 3: 训练场景数: 19, 验证场景数: 5\n",
      "训练数据集大小: 19, 验证数据集大小: 5\n",
      "场景 'artroom1' 校准信息:\n",
      "  原始尺寸: 1920x1080\n",
      "  最大视差: 170\n",
      "  视差范围: 55.0 - 142.0\n",
      "  基线长度: 536.62 mm\n",
      "使用最大视差值: 170\n"
     ]
    },
    {
     "name": "stderr",
     "output_type": "stream",
     "text": [
      "Fold 3, Epoch 1/20 (Training): 100%|██████████| 19/19 [00:03<00:00,  5.47it/s]\n",
      "Fold 3, Epoch 1/20 (Validation): 100%|██████████| 5/5 [00:00<00:00,  9.65it/s]\n"
     ]
    },
    {
     "name": "stdout",
     "output_type": "stream",
     "text": [
      "Fold 3, Epoch 1/20:\n",
      "  Train Loss: 16.2270\n",
      "  Val Loss: 11.2283\n",
      "  Val Disparity Error: 11.7204 pixels\n"
     ]
    },
    {
     "name": "stderr",
     "output_type": "stream",
     "text": [
      "Fold 3, Epoch 2/20 (Training): 100%|██████████| 19/19 [00:03<00:00,  5.47it/s]\n",
      "Fold 3, Epoch 2/20 (Validation): 100%|██████████| 5/5 [00:00<00:00, 10.52it/s]\n"
     ]
    },
    {
     "name": "stdout",
     "output_type": "stream",
     "text": [
      "Fold 3, Epoch 2/20:\n",
      "  Train Loss: 11.9080\n",
      "  Val Loss: 9.6305\n",
      "  Val Disparity Error: 10.1235 pixels\n"
     ]
    },
    {
     "name": "stderr",
     "output_type": "stream",
     "text": [
      "Fold 3, Epoch 3/20 (Training): 100%|██████████| 19/19 [00:03<00:00,  5.45it/s]\n",
      "Fold 3, Epoch 3/20 (Validation): 100%|██████████| 5/5 [00:00<00:00, 10.44it/s]\n"
     ]
    },
    {
     "name": "stdout",
     "output_type": "stream",
     "text": [
      "Fold 3, Epoch 3/20:\n",
      "  Train Loss: 11.4847\n",
      "  Val Loss: 10.9124\n",
      "  Val Disparity Error: 11.4010 pixels\n"
     ]
    },
    {
     "name": "stderr",
     "output_type": "stream",
     "text": [
      "Fold 3, Epoch 4/20 (Training): 100%|██████████| 19/19 [00:03<00:00,  5.47it/s]\n",
      "Fold 3, Epoch 4/20 (Validation): 100%|██████████| 5/5 [00:00<00:00, 10.18it/s]\n"
     ]
    },
    {
     "name": "stdout",
     "output_type": "stream",
     "text": [
      "Fold 3, Epoch 4/20:\n",
      "  Train Loss: 11.8374\n",
      "  Val Loss: 10.1802\n",
      "  Val Disparity Error: 10.6735 pixels\n"
     ]
    },
    {
     "name": "stderr",
     "output_type": "stream",
     "text": [
      "Fold 3, Epoch 5/20 (Training): 100%|██████████| 19/19 [00:03<00:00,  5.46it/s]\n",
      "Fold 3, Epoch 5/20 (Validation): 100%|██████████| 5/5 [00:00<00:00, 10.51it/s]\n"
     ]
    },
    {
     "name": "stdout",
     "output_type": "stream",
     "text": [
      "Fold 3, Epoch 5/20:\n",
      "  Train Loss: 11.3310\n",
      "  Val Loss: 11.3276\n",
      "  Val Disparity Error: 11.8160 pixels\n"
     ]
    },
    {
     "name": "stderr",
     "output_type": "stream",
     "text": [
      "Fold 3, Epoch 6/20 (Training): 100%|██████████| 19/19 [00:03<00:00,  5.49it/s]\n",
      "Fold 3, Epoch 6/20 (Validation): 100%|██████████| 5/5 [00:00<00:00, 10.56it/s]\n"
     ]
    },
    {
     "name": "stdout",
     "output_type": "stream",
     "text": [
      "Fold 3, Epoch 6/20:\n",
      "  Train Loss: 11.5237\n",
      "  Val Loss: 11.5293\n",
      "  Val Disparity Error: 12.0186 pixels\n"
     ]
    },
    {
     "name": "stderr",
     "output_type": "stream",
     "text": [
      "Fold 3, Epoch 7/20 (Training): 100%|██████████| 19/19 [00:03<00:00,  5.47it/s]\n",
      "Fold 3, Epoch 7/20 (Validation): 100%|██████████| 5/5 [00:00<00:00, 10.50it/s]\n"
     ]
    },
    {
     "name": "stdout",
     "output_type": "stream",
     "text": [
      "Fold 3, Epoch 7/20:\n",
      "  Train Loss: 11.1394\n",
      "  Val Loss: 10.4847\n",
      "  Val Disparity Error: 10.9733 pixels\n"
     ]
    },
    {
     "name": "stderr",
     "output_type": "stream",
     "text": [
      "Fold 3, Epoch 8/20 (Training): 100%|██████████| 19/19 [00:03<00:00,  5.47it/s]\n",
      "Fold 3, Epoch 8/20 (Validation): 100%|██████████| 5/5 [00:00<00:00, 10.59it/s]\n"
     ]
    },
    {
     "name": "stdout",
     "output_type": "stream",
     "text": [
      "Fold 3, Epoch 8/20:\n",
      "  Train Loss: 10.4052\n",
      "  Val Loss: 12.9646\n",
      "  Val Disparity Error: 13.4564 pixels\n"
     ]
    },
    {
     "name": "stderr",
     "output_type": "stream",
     "text": [
      "Fold 3, Epoch 9/20 (Training): 100%|██████████| 19/19 [00:03<00:00,  5.49it/s]\n",
      "Fold 3, Epoch 9/20 (Validation): 100%|██████████| 5/5 [00:00<00:00, 10.49it/s]\n"
     ]
    },
    {
     "name": "stdout",
     "output_type": "stream",
     "text": [
      "Fold 3, Epoch 9/20:\n",
      "  Train Loss: 11.0464\n",
      "  Val Loss: 12.2223\n",
      "  Val Disparity Error: 12.7132 pixels\n"
     ]
    },
    {
     "name": "stderr",
     "output_type": "stream",
     "text": [
      "Fold 3, Epoch 10/20 (Training): 100%|██████████| 19/19 [00:03<00:00,  5.48it/s]\n",
      "Fold 3, Epoch 10/20 (Validation): 100%|██████████| 5/5 [00:00<00:00, 10.55it/s]\n"
     ]
    },
    {
     "name": "stdout",
     "output_type": "stream",
     "text": [
      "Fold 3, Epoch 10/20:\n",
      "  Train Loss: 10.9101\n",
      "  Val Loss: 13.2155\n",
      "  Val Disparity Error: 13.7044 pixels\n"
     ]
    },
    {
     "name": "stderr",
     "output_type": "stream",
     "text": [
      "Fold 3, Epoch 11/20 (Training): 100%|██████████| 19/19 [00:03<00:00,  5.48it/s]\n",
      "Fold 3, Epoch 11/20 (Validation): 100%|██████████| 5/5 [00:00<00:00, 10.54it/s]\n"
     ]
    },
    {
     "name": "stdout",
     "output_type": "stream",
     "text": [
      "Fold 3, Epoch 11/20:\n",
      "  Train Loss: 10.4847\n",
      "  Val Loss: 12.2458\n",
      "  Val Disparity Error: 12.7348 pixels\n"
     ]
    },
    {
     "name": "stderr",
     "output_type": "stream",
     "text": [
      "Fold 3, Epoch 12/20 (Training): 100%|██████████| 19/19 [00:03<00:00,  5.48it/s]\n",
      "Fold 3, Epoch 12/20 (Validation): 100%|██████████| 5/5 [00:00<00:00, 10.65it/s]\n"
     ]
    },
    {
     "name": "stdout",
     "output_type": "stream",
     "text": [
      "Fold 3, Epoch 12/20:\n",
      "  Train Loss: 9.5747\n",
      "  Val Loss: 13.9808\n",
      "  Val Disparity Error: 14.4725 pixels\n"
     ]
    },
    {
     "name": "stderr",
     "output_type": "stream",
     "text": [
      "Fold 3, Epoch 13/20 (Training): 100%|██████████| 19/19 [00:03<00:00,  5.48it/s]\n",
      "Fold 3, Epoch 13/20 (Validation): 100%|██████████| 5/5 [00:00<00:00, 10.50it/s]\n"
     ]
    },
    {
     "name": "stdout",
     "output_type": "stream",
     "text": [
      "Fold 3, Epoch 13/20:\n",
      "  Train Loss: 8.7444\n",
      "  Val Loss: 13.7666\n",
      "  Val Disparity Error: 14.2591 pixels\n"
     ]
    },
    {
     "name": "stderr",
     "output_type": "stream",
     "text": [
      "Fold 3, Epoch 14/20 (Training): 100%|██████████| 19/19 [00:03<00:00,  5.47it/s]\n",
      "Fold 3, Epoch 14/20 (Validation): 100%|██████████| 5/5 [00:00<00:00, 10.51it/s]\n"
     ]
    },
    {
     "name": "stdout",
     "output_type": "stream",
     "text": [
      "Fold 3, Epoch 14/20:\n",
      "  Train Loss: 8.6433\n",
      "  Val Loss: 11.7857\n",
      "  Val Disparity Error: 12.2749 pixels\n"
     ]
    },
    {
     "name": "stderr",
     "output_type": "stream",
     "text": [
      "Fold 3, Epoch 15/20 (Training): 100%|██████████| 19/19 [00:03<00:00,  5.47it/s]\n",
      "Fold 3, Epoch 15/20 (Validation): 100%|██████████| 5/5 [00:00<00:00, 10.56it/s]\n"
     ]
    },
    {
     "name": "stdout",
     "output_type": "stream",
     "text": [
      "Fold 3, Epoch 15/20:\n",
      "  Train Loss: 8.6715\n",
      "  Val Loss: 13.8712\n",
      "  Val Disparity Error: 14.3551 pixels\n"
     ]
    },
    {
     "name": "stderr",
     "output_type": "stream",
     "text": [
      "Fold 3, Epoch 16/20 (Training): 100%|██████████| 19/19 [00:03<00:00,  5.48it/s]\n",
      "Fold 3, Epoch 16/20 (Validation): 100%|██████████| 5/5 [00:00<00:00, 10.50it/s]\n"
     ]
    },
    {
     "name": "stdout",
     "output_type": "stream",
     "text": [
      "Fold 3, Epoch 16/20:\n",
      "  Train Loss: 10.4240\n",
      "  Val Loss: 14.1319\n",
      "  Val Disparity Error: 14.6201 pixels\n"
     ]
    },
    {
     "name": "stderr",
     "output_type": "stream",
     "text": [
      "Fold 3, Epoch 17/20 (Training): 100%|██████████| 19/19 [00:03<00:00,  5.47it/s]\n",
      "Fold 3, Epoch 17/20 (Validation): 100%|██████████| 5/5 [00:00<00:00, 10.50it/s]\n"
     ]
    },
    {
     "name": "stdout",
     "output_type": "stream",
     "text": [
      "Fold 3, Epoch 17/20:\n",
      "  Train Loss: 9.2046\n",
      "  Val Loss: 13.8968\n",
      "  Val Disparity Error: 14.3854 pixels\n"
     ]
    },
    {
     "name": "stderr",
     "output_type": "stream",
     "text": [
      "Fold 3, Epoch 18/20 (Training): 100%|██████████| 19/19 [00:03<00:00,  5.47it/s]\n",
      "Fold 3, Epoch 18/20 (Validation): 100%|██████████| 5/5 [00:00<00:00, 10.50it/s]\n"
     ]
    },
    {
     "name": "stdout",
     "output_type": "stream",
     "text": [
      "Fold 3, Epoch 18/20:\n",
      "  Train Loss: 7.8047\n",
      "  Val Loss: 13.4249\n",
      "  Val Disparity Error: 13.9167 pixels\n"
     ]
    },
    {
     "name": "stderr",
     "output_type": "stream",
     "text": [
      "Fold 3, Epoch 19/20 (Training): 100%|██████████| 19/19 [00:03<00:00,  5.47it/s]\n",
      "Fold 3, Epoch 19/20 (Validation): 100%|██████████| 5/5 [00:00<00:00, 10.53it/s]\n"
     ]
    },
    {
     "name": "stdout",
     "output_type": "stream",
     "text": [
      "Fold 3, Epoch 19/20:\n",
      "  Train Loss: 7.1424\n",
      "  Val Loss: 13.3971\n",
      "  Val Disparity Error: 13.8833 pixels\n"
     ]
    },
    {
     "name": "stderr",
     "output_type": "stream",
     "text": [
      "Fold 3, Epoch 20/20 (Training): 100%|██████████| 19/19 [00:03<00:00,  5.49it/s]\n",
      "Fold 3, Epoch 20/20 (Validation): 100%|██████████| 5/5 [00:00<00:00, 10.54it/s]\n"
     ]
    },
    {
     "name": "stdout",
     "output_type": "stream",
     "text": [
      "Fold 3, Epoch 20/20:\n",
      "  Train Loss: 6.9333\n",
      "  Val Loss: 16.2338\n",
      "  Val Disparity Error: 16.7301 pixels\n",
      "Fold 3 completed. Disparity Error: 16.7301 pixels\n",
      "Starting fold 4/5\n",
      "找到 24 个场景: ['artroom1', 'artroom2', 'bandsaw1', 'bandsaw2', 'chess1']...\n",
      "Fold 4: 训练场景数: 19, 验证场景数: 5\n",
      "训练数据集大小: 19, 验证数据集大小: 5\n",
      "场景 'artroom1' 校准信息:\n",
      "  原始尺寸: 1920x1080\n",
      "  最大视差: 170\n",
      "  视差范围: 55.0 - 142.0\n",
      "  基线长度: 536.62 mm\n",
      "使用最大视差值: 170\n"
     ]
    },
    {
     "name": "stderr",
     "output_type": "stream",
     "text": [
      "Fold 4, Epoch 1/20 (Training): 100%|██████████| 19/19 [00:03<00:00,  5.45it/s]\n",
      "Fold 4, Epoch 1/20 (Validation): 100%|██████████| 5/5 [00:00<00:00,  9.93it/s]\n"
     ]
    },
    {
     "name": "stdout",
     "output_type": "stream",
     "text": [
      "Fold 4, Epoch 1/20:\n",
      "  Train Loss: 15.2234\n",
      "  Val Loss: 19.4799\n",
      "  Val Disparity Error: 19.9681 pixels\n"
     ]
    },
    {
     "name": "stderr",
     "output_type": "stream",
     "text": [
      "Fold 4, Epoch 2/20 (Training): 100%|██████████| 19/19 [00:03<00:00,  5.43it/s]\n",
      "Fold 4, Epoch 2/20 (Validation): 100%|██████████| 5/5 [00:00<00:00, 10.69it/s]\n"
     ]
    },
    {
     "name": "stdout",
     "output_type": "stream",
     "text": [
      "Fold 4, Epoch 2/20:\n",
      "  Train Loss: 10.7025\n",
      "  Val Loss: 18.8454\n",
      "  Val Disparity Error: 19.3286 pixels\n"
     ]
    },
    {
     "name": "stderr",
     "output_type": "stream",
     "text": [
      "Fold 4, Epoch 3/20 (Training): 100%|██████████| 19/19 [00:03<00:00,  5.47it/s]\n",
      "Fold 4, Epoch 3/20 (Validation): 100%|██████████| 5/5 [00:00<00:00, 10.62it/s]\n"
     ]
    },
    {
     "name": "stdout",
     "output_type": "stream",
     "text": [
      "Fold 4, Epoch 3/20:\n",
      "  Train Loss: 9.2957\n",
      "  Val Loss: 18.9598\n",
      "  Val Disparity Error: 19.4442 pixels\n"
     ]
    },
    {
     "name": "stderr",
     "output_type": "stream",
     "text": [
      "Fold 4, Epoch 4/20 (Training): 100%|██████████| 19/19 [00:03<00:00,  5.49it/s]\n",
      "Fold 4, Epoch 4/20 (Validation): 100%|██████████| 5/5 [00:00<00:00, 10.57it/s]\n"
     ]
    },
    {
     "name": "stdout",
     "output_type": "stream",
     "text": [
      "Fold 4, Epoch 4/20:\n",
      "  Train Loss: 9.5484\n",
      "  Val Loss: 18.9914\n",
      "  Val Disparity Error: 19.4811 pixels\n"
     ]
    },
    {
     "name": "stderr",
     "output_type": "stream",
     "text": [
      "Fold 4, Epoch 5/20 (Training): 100%|██████████| 19/19 [00:03<00:00,  5.47it/s]\n",
      "Fold 4, Epoch 5/20 (Validation): 100%|██████████| 5/5 [00:00<00:00, 10.59it/s]\n"
     ]
    },
    {
     "name": "stdout",
     "output_type": "stream",
     "text": [
      "Fold 4, Epoch 5/20:\n",
      "  Train Loss: 9.2149\n",
      "  Val Loss: 18.8873\n",
      "  Val Disparity Error: 19.3794 pixels\n"
     ]
    },
    {
     "name": "stderr",
     "output_type": "stream",
     "text": [
      "Fold 4, Epoch 6/20 (Training): 100%|██████████| 19/19 [00:03<00:00,  5.47it/s]\n",
      "Fold 4, Epoch 6/20 (Validation): 100%|██████████| 5/5 [00:00<00:00, 10.68it/s]\n"
     ]
    },
    {
     "name": "stdout",
     "output_type": "stream",
     "text": [
      "Fold 4, Epoch 6/20:\n",
      "  Train Loss: 8.9640\n",
      "  Val Loss: 20.4949\n",
      "  Val Disparity Error: 20.9892 pixels\n"
     ]
    },
    {
     "name": "stderr",
     "output_type": "stream",
     "text": [
      "Fold 4, Epoch 7/20 (Training): 100%|██████████| 19/19 [00:03<00:00,  5.48it/s]\n",
      "Fold 4, Epoch 7/20 (Validation): 100%|██████████| 5/5 [00:00<00:00, 10.62it/s]\n"
     ]
    },
    {
     "name": "stdout",
     "output_type": "stream",
     "text": [
      "Fold 4, Epoch 7/20:\n",
      "  Train Loss: 8.3457\n",
      "  Val Loss: 17.5836\n",
      "  Val Disparity Error: 18.0759 pixels\n"
     ]
    },
    {
     "name": "stderr",
     "output_type": "stream",
     "text": [
      "Fold 4, Epoch 8/20 (Training): 100%|██████████| 19/19 [00:03<00:00,  5.45it/s]\n",
      "Fold 4, Epoch 8/20 (Validation): 100%|██████████| 5/5 [00:00<00:00, 10.67it/s]\n"
     ]
    },
    {
     "name": "stdout",
     "output_type": "stream",
     "text": [
      "Fold 4, Epoch 8/20:\n",
      "  Train Loss: 7.7736\n",
      "  Val Loss: 21.0039\n",
      "  Val Disparity Error: 21.4965 pixels\n"
     ]
    },
    {
     "name": "stderr",
     "output_type": "stream",
     "text": [
      "Fold 4, Epoch 9/20 (Training): 100%|██████████| 19/19 [00:03<00:00,  5.47it/s]\n",
      "Fold 4, Epoch 9/20 (Validation): 100%|██████████| 5/5 [00:00<00:00, 10.68it/s]\n"
     ]
    },
    {
     "name": "stdout",
     "output_type": "stream",
     "text": [
      "Fold 4, Epoch 9/20:\n",
      "  Train Loss: 8.0627\n",
      "  Val Loss: 17.5387\n",
      "  Val Disparity Error: 18.0297 pixels\n"
     ]
    },
    {
     "name": "stderr",
     "output_type": "stream",
     "text": [
      "Fold 4, Epoch 10/20 (Training): 100%|██████████| 19/19 [00:03<00:00,  5.46it/s]\n",
      "Fold 4, Epoch 10/20 (Validation): 100%|██████████| 5/5 [00:00<00:00, 10.61it/s]\n"
     ]
    },
    {
     "name": "stdout",
     "output_type": "stream",
     "text": [
      "Fold 4, Epoch 10/20:\n",
      "  Train Loss: 8.3538\n",
      "  Val Loss: 17.8707\n",
      "  Val Disparity Error: 18.3558 pixels\n"
     ]
    },
    {
     "name": "stderr",
     "output_type": "stream",
     "text": [
      "Fold 4, Epoch 11/20 (Training): 100%|██████████| 19/19 [00:03<00:00,  5.46it/s]\n",
      "Fold 4, Epoch 11/20 (Validation): 100%|██████████| 5/5 [00:00<00:00, 10.65it/s]\n"
     ]
    },
    {
     "name": "stdout",
     "output_type": "stream",
     "text": [
      "Fold 4, Epoch 11/20:\n",
      "  Train Loss: 7.8335\n",
      "  Val Loss: 17.2244\n",
      "  Val Disparity Error: 17.7125 pixels\n"
     ]
    },
    {
     "name": "stderr",
     "output_type": "stream",
     "text": [
      "Fold 4, Epoch 12/20 (Training): 100%|██████████| 19/19 [00:03<00:00,  5.47it/s]\n",
      "Fold 4, Epoch 12/20 (Validation): 100%|██████████| 5/5 [00:00<00:00, 10.64it/s]\n"
     ]
    },
    {
     "name": "stdout",
     "output_type": "stream",
     "text": [
      "Fold 4, Epoch 12/20:\n",
      "  Train Loss: 6.4286\n",
      "  Val Loss: 16.1338\n",
      "  Val Disparity Error: 16.6254 pixels\n"
     ]
    },
    {
     "name": "stderr",
     "output_type": "stream",
     "text": [
      "Fold 4, Epoch 13/20 (Training): 100%|██████████| 19/19 [00:03<00:00,  5.44it/s]\n",
      "Fold 4, Epoch 13/20 (Validation): 100%|██████████| 5/5 [00:00<00:00, 10.69it/s]\n"
     ]
    },
    {
     "name": "stdout",
     "output_type": "stream",
     "text": [
      "Fold 4, Epoch 13/20:\n",
      "  Train Loss: 5.9170\n",
      "  Val Loss: 16.3010\n",
      "  Val Disparity Error: 16.7912 pixels\n"
     ]
    },
    {
     "name": "stderr",
     "output_type": "stream",
     "text": [
      "Fold 4, Epoch 14/20 (Training): 100%|██████████| 19/19 [00:03<00:00,  5.47it/s]\n",
      "Fold 4, Epoch 14/20 (Validation): 100%|██████████| 5/5 [00:00<00:00, 10.63it/s]\n"
     ]
    },
    {
     "name": "stdout",
     "output_type": "stream",
     "text": [
      "Fold 4, Epoch 14/20:\n",
      "  Train Loss: 5.6671\n",
      "  Val Loss: 17.0597\n",
      "  Val Disparity Error: 17.5499 pixels\n"
     ]
    },
    {
     "name": "stderr",
     "output_type": "stream",
     "text": [
      "Fold 4, Epoch 15/20 (Training): 100%|██████████| 19/19 [00:03<00:00,  5.49it/s]\n",
      "Fold 4, Epoch 15/20 (Validation): 100%|██████████| 5/5 [00:00<00:00, 10.70it/s]\n"
     ]
    },
    {
     "name": "stdout",
     "output_type": "stream",
     "text": [
      "Fold 4, Epoch 15/20:\n",
      "  Train Loss: 5.7436\n",
      "  Val Loss: 17.8616\n",
      "  Val Disparity Error: 18.3543 pixels\n"
     ]
    },
    {
     "name": "stderr",
     "output_type": "stream",
     "text": [
      "Fold 4, Epoch 16/20 (Training): 100%|██████████| 19/19 [00:03<00:00,  5.47it/s]\n",
      "Fold 4, Epoch 16/20 (Validation): 100%|██████████| 5/5 [00:00<00:00, 10.69it/s]\n"
     ]
    },
    {
     "name": "stdout",
     "output_type": "stream",
     "text": [
      "Fold 4, Epoch 16/20:\n",
      "  Train Loss: 5.7169\n",
      "  Val Loss: 16.6892\n",
      "  Val Disparity Error: 17.1819 pixels\n"
     ]
    },
    {
     "name": "stderr",
     "output_type": "stream",
     "text": [
      "Fold 4, Epoch 17/20 (Training): 100%|██████████| 19/19 [00:03<00:00,  5.46it/s]\n",
      "Fold 4, Epoch 17/20 (Validation): 100%|██████████| 5/5 [00:00<00:00, 10.70it/s]\n"
     ]
    },
    {
     "name": "stdout",
     "output_type": "stream",
     "text": [
      "Fold 4, Epoch 17/20:\n",
      "  Train Loss: 6.3203\n",
      "  Val Loss: 16.9900\n",
      "  Val Disparity Error: 17.4754 pixels\n"
     ]
    },
    {
     "name": "stderr",
     "output_type": "stream",
     "text": [
      "Fold 4, Epoch 18/20 (Training): 100%|██████████| 19/19 [00:03<00:00,  5.49it/s]\n",
      "Fold 4, Epoch 18/20 (Validation): 100%|██████████| 5/5 [00:00<00:00, 10.60it/s]\n"
     ]
    },
    {
     "name": "stdout",
     "output_type": "stream",
     "text": [
      "Fold 4, Epoch 18/20:\n",
      "  Train Loss: 5.2658\n",
      "  Val Loss: 16.6970\n",
      "  Val Disparity Error: 17.1886 pixels\n"
     ]
    },
    {
     "name": "stderr",
     "output_type": "stream",
     "text": [
      "Fold 4, Epoch 19/20 (Training): 100%|██████████| 19/19 [00:03<00:00,  5.48it/s]\n",
      "Fold 4, Epoch 19/20 (Validation): 100%|██████████| 5/5 [00:00<00:00, 10.66it/s]\n"
     ]
    },
    {
     "name": "stdout",
     "output_type": "stream",
     "text": [
      "Fold 4, Epoch 19/20:\n",
      "  Train Loss: 5.1741\n",
      "  Val Loss: 21.2860\n",
      "  Val Disparity Error: 21.7805 pixels\n"
     ]
    },
    {
     "name": "stderr",
     "output_type": "stream",
     "text": [
      "Fold 4, Epoch 20/20 (Training): 100%|██████████| 19/19 [00:03<00:00,  5.46it/s]\n",
      "Fold 4, Epoch 20/20 (Validation): 100%|██████████| 5/5 [00:00<00:00, 10.54it/s]\n"
     ]
    },
    {
     "name": "stdout",
     "output_type": "stream",
     "text": [
      "Fold 4, Epoch 20/20:\n",
      "  Train Loss: 4.6244\n",
      "  Val Loss: 19.1732\n",
      "  Val Disparity Error: 19.6682 pixels\n",
      "Fold 4 completed. Disparity Error: 19.6682 pixels\n",
      "Starting fold 5/5\n",
      "找到 24 个场景: ['artroom1', 'artroom2', 'bandsaw1', 'bandsaw2', 'chess1']...\n",
      "Fold 5: 训练场景数: 20, 验证场景数: 4\n",
      "训练数据集大小: 20, 验证数据集大小: 4\n",
      "场景 'artroom1' 校准信息:\n",
      "  原始尺寸: 1920x1080\n",
      "  最大视差: 170\n",
      "  视差范围: 55.0 - 142.0\n",
      "  基线长度: 536.62 mm\n",
      "使用最大视差值: 170\n"
     ]
    },
    {
     "name": "stderr",
     "output_type": "stream",
     "text": [
      "Fold 5, Epoch 1/20 (Training): 100%|██████████| 20/20 [00:03<00:00,  5.45it/s]\n",
      "Fold 5, Epoch 1/20 (Validation): 100%|██████████| 4/4 [00:00<00:00,  9.72it/s]\n"
     ]
    },
    {
     "name": "stdout",
     "output_type": "stream",
     "text": [
      "Fold 5, Epoch 1/20:\n",
      "  Train Loss: 15.9148\n",
      "  Val Loss: 9.7052\n",
      "  Val Disparity Error: 10.1882 pixels\n"
     ]
    },
    {
     "name": "stderr",
     "output_type": "stream",
     "text": [
      "Fold 5, Epoch 2/20 (Training): 100%|██████████| 20/20 [00:03<00:00,  5.46it/s]\n",
      "Fold 5, Epoch 2/20 (Validation): 100%|██████████| 4/4 [00:00<00:00, 10.53it/s]\n"
     ]
    },
    {
     "name": "stdout",
     "output_type": "stream",
     "text": [
      "Fold 5, Epoch 2/20:\n",
      "  Train Loss: 12.3890\n",
      "  Val Loss: 9.2115\n",
      "  Val Disparity Error: 9.7052 pixels\n"
     ]
    },
    {
     "name": "stderr",
     "output_type": "stream",
     "text": [
      "Fold 5, Epoch 3/20 (Training): 100%|██████████| 20/20 [00:03<00:00,  5.46it/s]\n",
      "Fold 5, Epoch 3/20 (Validation): 100%|██████████| 4/4 [00:00<00:00, 10.06it/s]\n"
     ]
    },
    {
     "name": "stdout",
     "output_type": "stream",
     "text": [
      "Fold 5, Epoch 3/20:\n",
      "  Train Loss: 12.6125\n",
      "  Val Loss: 8.9825\n",
      "  Val Disparity Error: 9.4722 pixels\n"
     ]
    },
    {
     "name": "stderr",
     "output_type": "stream",
     "text": [
      "Fold 5, Epoch 4/20 (Training): 100%|██████████| 20/20 [00:03<00:00,  5.41it/s]\n",
      "Fold 5, Epoch 4/20 (Validation): 100%|██████████| 4/4 [00:00<00:00, 10.26it/s]\n"
     ]
    },
    {
     "name": "stdout",
     "output_type": "stream",
     "text": [
      "Fold 5, Epoch 4/20:\n",
      "  Train Loss: 12.1412\n",
      "  Val Loss: 8.8514\n",
      "  Val Disparity Error: 9.3459 pixels\n"
     ]
    },
    {
     "name": "stderr",
     "output_type": "stream",
     "text": [
      "Fold 5, Epoch 5/20 (Training): 100%|██████████| 20/20 [00:03<00:00,  5.40it/s]\n",
      "Fold 5, Epoch 5/20 (Validation): 100%|██████████| 4/4 [00:00<00:00, 10.49it/s]\n"
     ]
    },
    {
     "name": "stdout",
     "output_type": "stream",
     "text": [
      "Fold 5, Epoch 5/20:\n",
      "  Train Loss: 11.1711\n",
      "  Val Loss: 8.3007\n",
      "  Val Disparity Error: 8.7925 pixels\n"
     ]
    },
    {
     "name": "stderr",
     "output_type": "stream",
     "text": [
      "Fold 5, Epoch 6/20 (Training): 100%|██████████| 20/20 [00:03<00:00,  5.41it/s]\n",
      "Fold 5, Epoch 6/20 (Validation): 100%|██████████| 4/4 [00:00<00:00, 10.61it/s]\n"
     ]
    },
    {
     "name": "stdout",
     "output_type": "stream",
     "text": [
      "Fold 5, Epoch 6/20:\n",
      "  Train Loss: 11.2519\n",
      "  Val Loss: 9.1558\n",
      "  Val Disparity Error: 9.6476 pixels\n"
     ]
    },
    {
     "name": "stderr",
     "output_type": "stream",
     "text": [
      "Fold 5, Epoch 7/20 (Training): 100%|██████████| 20/20 [00:03<00:00,  5.48it/s]\n",
      "Fold 5, Epoch 7/20 (Validation): 100%|██████████| 4/4 [00:00<00:00, 10.45it/s]\n"
     ]
    },
    {
     "name": "stdout",
     "output_type": "stream",
     "text": [
      "Fold 5, Epoch 7/20:\n",
      "  Train Loss: 10.6882\n",
      "  Val Loss: 10.7509\n",
      "  Val Disparity Error: 11.2454 pixels\n"
     ]
    },
    {
     "name": "stderr",
     "output_type": "stream",
     "text": [
      "Fold 5, Epoch 8/20 (Training): 100%|██████████| 20/20 [00:03<00:00,  5.41it/s]\n",
      "Fold 5, Epoch 8/20 (Validation): 100%|██████████| 4/4 [00:00<00:00,  9.84it/s]\n"
     ]
    },
    {
     "name": "stdout",
     "output_type": "stream",
     "text": [
      "Fold 5, Epoch 8/20:\n",
      "  Train Loss: 11.6546\n",
      "  Val Loss: 9.3884\n",
      "  Val Disparity Error: 9.8822 pixels\n"
     ]
    },
    {
     "name": "stderr",
     "output_type": "stream",
     "text": [
      "Fold 5, Epoch 9/20 (Training): 100%|██████████| 20/20 [00:03<00:00,  5.40it/s]\n",
      "Fold 5, Epoch 9/20 (Validation): 100%|██████████| 4/4 [00:00<00:00, 10.42it/s]\n"
     ]
    },
    {
     "name": "stdout",
     "output_type": "stream",
     "text": [
      "Fold 5, Epoch 9/20:\n",
      "  Train Loss: 11.9540\n",
      "  Val Loss: 9.6931\n",
      "  Val Disparity Error: 10.1867 pixels\n"
     ]
    },
    {
     "name": "stderr",
     "output_type": "stream",
     "text": [
      "Fold 5, Epoch 10/20 (Training): 100%|██████████| 20/20 [00:03<00:00,  5.48it/s]\n",
      "Fold 5, Epoch 10/20 (Validation): 100%|██████████| 4/4 [00:00<00:00, 10.49it/s]\n"
     ]
    },
    {
     "name": "stdout",
     "output_type": "stream",
     "text": [
      "Fold 5, Epoch 10/20:\n",
      "  Train Loss: 10.9090\n",
      "  Val Loss: 8.3877\n",
      "  Val Disparity Error: 8.8810 pixels\n"
     ]
    },
    {
     "name": "stderr",
     "output_type": "stream",
     "text": [
      "Fold 5, Epoch 11/20 (Training): 100%|██████████| 20/20 [00:03<00:00,  5.49it/s]\n",
      "Fold 5, Epoch 11/20 (Validation): 100%|██████████| 4/4 [00:00<00:00, 10.55it/s]\n"
     ]
    },
    {
     "name": "stdout",
     "output_type": "stream",
     "text": [
      "Fold 5, Epoch 11/20:\n",
      "  Train Loss: 10.1826\n",
      "  Val Loss: 8.2654\n",
      "  Val Disparity Error: 8.7580 pixels\n"
     ]
    },
    {
     "name": "stderr",
     "output_type": "stream",
     "text": [
      "Fold 5, Epoch 12/20 (Training): 100%|██████████| 20/20 [00:03<00:00,  5.47it/s]\n",
      "Fold 5, Epoch 12/20 (Validation): 100%|██████████| 4/4 [00:00<00:00, 10.51it/s]\n"
     ]
    },
    {
     "name": "stdout",
     "output_type": "stream",
     "text": [
      "Fold 5, Epoch 12/20:\n",
      "  Train Loss: 9.0988\n",
      "  Val Loss: 12.2540\n",
      "  Val Disparity Error: 12.7464 pixels\n"
     ]
    },
    {
     "name": "stderr",
     "output_type": "stream",
     "text": [
      "Fold 5, Epoch 13/20 (Training): 100%|██████████| 20/20 [00:03<00:00,  5.45it/s]\n",
      "Fold 5, Epoch 13/20 (Validation): 100%|██████████| 4/4 [00:00<00:00, 10.56it/s]\n"
     ]
    },
    {
     "name": "stdout",
     "output_type": "stream",
     "text": [
      "Fold 5, Epoch 13/20:\n",
      "  Train Loss: 10.5050\n",
      "  Val Loss: 10.0487\n",
      "  Val Disparity Error: 10.5411 pixels\n"
     ]
    },
    {
     "name": "stderr",
     "output_type": "stream",
     "text": [
      "Fold 5, Epoch 14/20 (Training): 100%|██████████| 20/20 [00:03<00:00,  5.28it/s]\n",
      "Fold 5, Epoch 14/20 (Validation): 100%|██████████| 4/4 [00:00<00:00, 10.44it/s]\n"
     ]
    },
    {
     "name": "stdout",
     "output_type": "stream",
     "text": [
      "Fold 5, Epoch 14/20:\n",
      "  Train Loss: 9.2489\n",
      "  Val Loss: 10.3121\n",
      "  Val Disparity Error: 10.8061 pixels\n"
     ]
    },
    {
     "name": "stderr",
     "output_type": "stream",
     "text": [
      "Fold 5, Epoch 15/20 (Training): 100%|██████████| 20/20 [00:03<00:00,  5.41it/s]\n",
      "Fold 5, Epoch 15/20 (Validation): 100%|██████████| 4/4 [00:00<00:00, 10.52it/s]\n"
     ]
    },
    {
     "name": "stdout",
     "output_type": "stream",
     "text": [
      "Fold 5, Epoch 15/20:\n",
      "  Train Loss: 8.5914\n",
      "  Val Loss: 9.8746\n",
      "  Val Disparity Error: 10.3658 pixels\n"
     ]
    },
    {
     "name": "stderr",
     "output_type": "stream",
     "text": [
      "Fold 5, Epoch 16/20 (Training): 100%|██████████| 20/20 [00:03<00:00,  5.48it/s]\n",
      "Fold 5, Epoch 16/20 (Validation): 100%|██████████| 4/4 [00:00<00:00, 10.50it/s]\n"
     ]
    },
    {
     "name": "stdout",
     "output_type": "stream",
     "text": [
      "Fold 5, Epoch 16/20:\n",
      "  Train Loss: 8.4284\n",
      "  Val Loss: 8.6641\n",
      "  Val Disparity Error: 9.1557 pixels\n"
     ]
    },
    {
     "name": "stderr",
     "output_type": "stream",
     "text": [
      "Fold 5, Epoch 17/20 (Training): 100%|██████████| 20/20 [00:03<00:00,  5.41it/s]\n",
      "Fold 5, Epoch 17/20 (Validation): 100%|██████████| 4/4 [00:00<00:00, 10.45it/s]\n"
     ]
    },
    {
     "name": "stdout",
     "output_type": "stream",
     "text": [
      "Fold 5, Epoch 17/20:\n",
      "  Train Loss: 7.8472\n",
      "  Val Loss: 13.8293\n",
      "  Val Disparity Error: 14.3227 pixels\n"
     ]
    },
    {
     "name": "stderr",
     "output_type": "stream",
     "text": [
      "Fold 5, Epoch 18/20 (Training): 100%|██████████| 20/20 [00:03<00:00,  5.32it/s]\n",
      "Fold 5, Epoch 18/20 (Validation): 100%|██████████| 4/4 [00:00<00:00,  9.77it/s]\n"
     ]
    },
    {
     "name": "stdout",
     "output_type": "stream",
     "text": [
      "Fold 5, Epoch 18/20:\n",
      "  Train Loss: 7.3279\n",
      "  Val Loss: 15.2266\n",
      "  Val Disparity Error: 15.7203 pixels\n"
     ]
    },
    {
     "name": "stderr",
     "output_type": "stream",
     "text": [
      "Fold 5, Epoch 19/20 (Training): 100%|██████████| 20/20 [00:03<00:00,  5.30it/s]\n",
      "Fold 5, Epoch 19/20 (Validation): 100%|██████████| 4/4 [00:00<00:00, 10.40it/s]\n"
     ]
    },
    {
     "name": "stdout",
     "output_type": "stream",
     "text": [
      "Fold 5, Epoch 19/20:\n",
      "  Train Loss: 7.4417\n",
      "  Val Loss: 9.7507\n",
      "  Val Disparity Error: 10.2438 pixels\n"
     ]
    },
    {
     "name": "stderr",
     "output_type": "stream",
     "text": [
      "Fold 5, Epoch 20/20 (Training): 100%|██████████| 20/20 [00:03<00:00,  5.46it/s]\n",
      "Fold 5, Epoch 20/20 (Validation): 100%|██████████| 4/4 [00:00<00:00, 10.31it/s]\n"
     ]
    },
    {
     "name": "stdout",
     "output_type": "stream",
     "text": [
      "Fold 5, Epoch 20/20:\n",
      "  Train Loss: 8.7583\n",
      "  Val Loss: 12.4507\n",
      "  Val Disparity Error: 12.9428 pixels\n",
      "Fold 5 completed. Disparity Error: 12.9428 pixels\n",
      "已保存场景 artroom1 的视差图可视化结果\n",
      "已保存场景 curule2 的视差图可视化结果\n",
      "已保存场景 ladder2 的视差图可视化结果\n",
      "Cross-validation completed. Results saved to ../results\n"
     ]
    }
   ],
   "source": [
    "k = 5\n",
    "num_epochs = 100\n",
    "\n",
    "create_architecture_diagram()\n",
    "\n",
    "scenes = [d for d in os.listdir(INPUT_DIR) if os.path.isdir(os.path.join(INPUT_DIR, d))]\n",
    "if scenes:\n",
    "    test_scene = scenes[0]\n",
    "    calib_file = os.path.join(INPUT_DIR, test_scene, 'calib.txt')\n",
    "    if os.path.exists(calib_file):\n",
    "        print(f\"\\nReading sample calibration file: {calib_file}\")\n",
    "        calib_params = read_calib_file(calib_file)\n",
    "        print(\"Calibration parameters:\")\n",
    "        for key, value in calib_params.items():\n",
    "            print(f\"  {key}: {value}\")\n",
    "\n",
    "run_cross_validation(INPUT_DIR, OUTPUT_DIR, k=k, num_epochs=num_epochs)"
   ]
  },
  {
   "cell_type": "code",
   "execution_count": null,
   "id": "f19e4a3b",
   "metadata": {},
   "outputs": [
    {
     "name": "stdout",
     "output_type": "stream",
     "text": [
      "交叉验证结果:\n",
      "   Fold                                        Test_Scenes  Disparity_Error\n",
      "0     1  ['artroom1', 'curule2', 'ladder2', 'podium1', ...        10.883068\n",
      "1     2  ['artroom2', 'chess2', 'curule3', 'octogons2',...        10.080298\n",
      "2     3  ['bandsaw1', 'bandsaw2', 'chess1', 'octogons1'...        16.730128\n",
      "3     4  ['curule1', 'skates1', 'skiboots2', 'traproom1...        19.668196\n",
      "4     5    ['chess3', 'ladder1', 'pendulum1', 'skiboots1']        12.942764\n",
      "\n",
      "平均视差误差: 14.0609 pixels\n"
     ]
    },
    {
     "data": {
      "image/png": "[encoded data removed]",
      "text/plain": [
       "<Figure size 1000x600 with 1 Axes>"
      ]
     },
     "metadata": {},
     "output_type": "display_data"
    },
    {
     "name": "stdout",
     "output_type": "stream",
     "text": [
      "\n",
      "找到 3 个预测视差图:\n"
     ]
    },
    {
     "data": {
      "image/png": "[encoded data removed]",
      "text/plain": [
       "<Figure size 1500x1500 with 3 Axes>"
      ]
     },
     "metadata": {},
     "output_type": "display_data"
    }
   ],
   "source": [
    "def visualize_results():\n",
    "    \"\"\"Visualize training and validation results.\"\"\"\n",
    "    # Check if cross-validation results file exists\n",
    "    cv_path = os.path.join(OUTPUT_DIR, 'ex4c_crossvalidation.csv')\n",
    "    if os.path.exists(cv_path):\n",
    "        # Load results\n",
    "        cv_results = pd.read_csv(cv_path)\n",
    "        print(\"Cross-validation results:\")\n",
    "        print(cv_results)\n",
    "        \n",
    "        # Compute mean error\n",
    "        mean_error = cv_results['Disparity_Error'].mean()\n",
    "        print(f\"\\nMean disparity error: {mean_error:.4f} pixels\")\n",
    "        \n",
    "        # Plot error bar chart\n",
    "        plt.figure(figsize=(10, 6))\n",
    "        plt.bar(range(1, len(cv_results)+1), cv_results['Disparity_Error'])\n",
    "        plt.xlabel('Fold')\n",
    "        plt.ylabel('Disparity Error (pixels)')\n",
    "        plt.title('Cross-Validation Results')\n",
    "        plt.xticks(range(1, len(cv_results)+1))\n",
    "        plt.grid(axis='y', linestyle='--', alpha=0.7)\n",
    "        plt.savefig(os.path.join(OUTPUT_DIR, 'disparity_errors.png'))\n",
    "        plt.show()\n",
    "    else:\n",
    "        print(\"Cross-validation results file not found. Please run training first.\")\n",
    "    \n",
    "    # Find and display disparity maps\n",
    "    disp_files = [f for f in os.listdir(OUTPUT_DIR) if f.startswith('ex4b_') and f.endswith('_disparitymap.png')]\n",
    "    if disp_files:\n",
    "        print(f\"\\nFound {len(disp_files)} predicted disparity maps:\")\n",
    "        plt.figure(figsize=(15, 5*min(len(disp_files), 3)))\n",
    "        \n",
    "        for i, f in enumerate(disp_files[:3]):\n",
    "            img = plt.imread(os.path.join(OUTPUT_DIR, f))\n",
    "            plt.subplot(min(len(disp_files), 3), 1, i+1)\n",
    "            plt.imshow(img)\n",
    "            plt.title(f.replace('ex4b_', '').replace('_disparitymap.png', ''))\n",
    "            plt.axis('off')\n",
    "        \n",
    "        plt.tight_layout()\n",
    "        plt.show()\n",
    "    else:\n",
    "        print(\"No predicted disparity maps found. Please run training first.\")\n",
    "\n",
    "visualize_results()"
   ]
  },
  {
   "cell_type": "code",
   "execution_count": null,
   "id": "1db122dc",
   "metadata": {},
   "outputs": [],
   "source": []
  }
 ],
 "metadata": {
  "kernelspec": {
   "display_name": "VC",
   "language": "python",
   "name": "python3"
  },
  "language_info": {
   "codemirror_mode": {
    "name": "ipython",
    "version": 3
   },
   "file_extension": ".py",
   "mimetype": "text/x-python",
   "name": "python",
   "nbconvert_exporter": "python",
   "pygments_lexer": "ipython3",
   "version": "3.10.16"
  }
 },
 "nbformat": 4,
 "nbformat_minor": 5
}
